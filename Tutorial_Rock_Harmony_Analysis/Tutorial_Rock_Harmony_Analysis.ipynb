{
 "cells": [
  {
   "cell_type": "markdown",
   "metadata": {
    "slideshow": {
     "slide_type": "slide"
    }
   },
   "source": [
    "# R-Programming in the Jupyter Environment: A Practical Tutorial on Rock Harmony Analysis"
   ]
  },
  {
   "cell_type": "markdown",
   "metadata": {
    "slideshow": {
     "slide_type": "slide"
    }
   },
   "source": [
    "This notebook provides an extension of the first example of Kris Shaffer's tutorial [Exploring musical data with R: An introduction to computational music analysis](https://pushpullfork.com/exploring-musical-data-with-r/), which introduces frequency distribution tables and related plots of overall chord instances in David Temperley's (dt) RS 5 x 20 corpus.\n",
    "\n",
    "Article: Trevor de Clercq and David Temperley (2011). A corpus analysis of rock harmony. *Popular Music* 30(1), p. 47-70. \n",
    "\n",
    "Things to learn:\n",
    "- Description of nominal data\n",
    "- Data management: \n",
    " - for-loop\n",
    " - if-condition\n",
    " - the idea of vectorisation\n",
    "- Graphical options\n",
    "\n",
    "Data required: resultsBySong.csv  \n",
    "Libraries required: none\n",
    "\n",
    "Date: 02-02-2019   \n",
    "Author: timovarelmann@uni-koeln.de  "
   ]
  },
  {
   "cell_type": "markdown",
   "metadata": {
    "slideshow": {
     "slide_type": "skip"
    }
   },
   "source": [
    "**List of contents**\n",
    "\n",
    "- [Short Intro: R-Programming in the Jupyter Environment](#intro)\n",
    "- [The Dataset](#data)\n",
    "- [Getting started: Identification of pre- and post-tonics](#start)\n",
    " - [Selecting columns, rows, and single elements](#sel)\n",
    " - [Overall frequency distribution of chromatic relative roots](#overfreq)\n",
    "- [Frequency distribution of pre- and post-tonics](#freqDist)\n",
    " - [Identification of pre- and post tonic chords in the dataset: Intro](#label)\n",
    " - [Identification of post-tonics by for-loop and if-statement](#post)\n",
    " - [Identification of pre-tonics by for-loop and if-statement](#pre)\n",
    "- [Chord transition table](#chtrans)\n",
    " - [Vectorisation](#vectorisation)\n",
    " - [Frequency distribution of all post-tonics](#freqvec)\n",
    " - [Frequencies of chord transitions in the whole corpus](#whole)\n",
    " - [Visualisation of the chord transition table by mosaic plot](#mosaic)"
   ]
  },
  {
   "cell_type": "markdown",
   "metadata": {
    "slideshow": {
     "slide_type": "slide"
    }
   },
   "source": [
    "## Short Intro: R-Programming in the Jupyter Environment<a name=\"intro\">"
   ]
  },
  {
   "cell_type": "markdown",
   "metadata": {
    "slideshow": {
     "slide_type": "fragment"
    }
   },
   "source": [
    "### What is R?\n",
    "\n",
    "- Programming language\n",
    "- Environment within which statistical techniques are implemented"
   ]
  },
  {
   "cell_type": "markdown",
   "metadata": {
    "slideshow": {
     "slide_type": "subslide"
    }
   },
   "source": [
    "R provides\n",
    "- effective data management and storage facilities\n",
    "- operators for calculations on data structures like vectors, matrices, dataframes\n",
    "- a large integrated collection of functions for data analysis\n",
    "- graphical facilities for data analysis and display in publication quality\n",
    "- effective programming language which includes conditionals, loops, user-defined functions and more\n",
    "\n",
    "(https://www.r-project.org/)"
   ]
  },
  {
   "cell_type": "markdown",
   "metadata": {
    "slideshow": {
     "slide_type": "subslide"
    }
   },
   "source": [
    "#### Extensions\n",
    "The [Comprehensive R Archive Network](https://cran.r-project.org) (CRAN) offers [more than 10.000](https://blog.revolutionanalytics.com/2017/01/cran-10000.html) high quality, well documented open-source packages for data analysis and graphical functions."
   ]
  },
  {
   "cell_type": "markdown",
   "metadata": {
    "slideshow": {
     "slide_type": "fragment"
    }
   },
   "source": [
    "Further packages are published \n",
    "- by [bioconductor](https://www.bioconductor.org) open source software for bioinformatics\n",
    "- on GitHub\n",
    "- ..."
   ]
  },
  {
   "cell_type": "markdown",
   "metadata": {
    "slideshow": {
     "slide_type": "slide"
    }
   },
   "source": [
    "### R-Programming in Jupyter"
   ]
  },
  {
   "cell_type": "markdown",
   "metadata": {
    "slideshow": {
     "slide_type": "subslide"
    }
   },
   "source": [
    "#### The Notebook Environment\n",
    "\n",
    "The Jupyter Notebook offers a distinct graphical user interface for R-programming and its applications for data management, analysis and graphical display."
   ]
  },
  {
   "cell_type": "markdown",
   "metadata": {
    "slideshow": {
     "slide_type": "subslide"
    }
   },
   "source": [
    "Jupyter notebooks consist of a sequence of cells:\n",
    "- Code\n",
    "- Markdown\n",
    "- Raw"
   ]
  },
  {
   "cell_type": "markdown",
   "metadata": {
    "slideshow": {
     "slide_type": "subslide"
    }
   },
   "source": [
    "#### Code Cell\n",
    "\n",
    "The R kernel for the Jupyter environment executes R code which the Jupyter Notebook's code cells submit to the kernel.\n",
    "\n",
    "Running a selected code cell executes *all* code of that cell."
   ]
  },
  {
   "cell_type": "markdown",
   "metadata": {
    "slideshow": {
     "slide_type": "subslide"
    }
   },
   "source": [
    "Remember: There are several ways to run a selected cell, e.g.:\n",
    "\n",
    "Run the selected cells and advance:\n",
    "- Press *Shift+Enter* , or:\n",
    "- Press the icon\n",
    "\n",
    "See more options and shortcuts in the *Run*  - Tasklist."
   ]
  },
  {
   "cell_type": "code",
   "execution_count": null,
   "metadata": {
    "slideshow": {
     "slide_type": "fragment"
    }
   },
   "outputs": [],
   "source": []
  },
  {
   "cell_type": "markdown",
   "metadata": {
    "slideshow": {
     "slide_type": "subslide"
    }
   },
   "source": [
    "#### Markdown"
   ]
  },
  {
   "cell_type": "markdown",
   "metadata": {
    "slideshow": {
     "slide_type": "fragment"
    }
   },
   "source": [
    "Markdown cells are used for several purposes. In this notebook, markdown is used:\n",
    "- to provide an overall structure to the notebook\n",
    "- for explanations and comments\n",
    "- for syntax highlighting\n",
    "- to insert formulae and links\n",
    "- to create a (single) table"
   ]
  },
  {
   "cell_type": "markdown",
   "metadata": {
    "slideshow": {
     "slide_type": "subslide"
    }
   },
   "source": [
    "#### Workspace\n",
    "The Jupyter Notebook is an active working environment that includes any objects defined within that notebook. Defined data and values remain active until shutdown of the kernel session."
   ]
  },
  {
   "cell_type": "code",
   "execution_count": 82,
   "metadata": {
    "slideshow": {
     "slide_type": "fragment"
    }
   },
   "outputs": [],
   "source": [
    "a <- 5"
   ]
  },
  {
   "cell_type": "code",
   "execution_count": 83,
   "metadata": {
    "slideshow": {
     "slide_type": "fragment"
    }
   },
   "outputs": [
    {
     "data": {
      "text/html": [
       "5"
      ],
      "text/latex": [
       "5"
      ],
      "text/markdown": [
       "5"
      ],
      "text/plain": [
       "[1] 5"
      ]
     },
     "metadata": {},
     "output_type": "display_data"
    }
   ],
   "source": [
    "a"
   ]
  },
  {
   "cell_type": "markdown",
   "metadata": {
    "slideshow": {
     "slide_type": "subslide"
    }
   },
   "source": [
    "#### Working Directory\n",
    "The working directory (wd) is the location in the file system where files are stored or from where files are imported. \n",
    "\n",
    "In Jupyter, the working directory is automatically set at the location within the Jupyter file system where the notebook is stored. \n",
    "\n",
    "If data files (or others) are stored within the same folder, setting the working directory is not required for operations like reading data."
   ]
  },
  {
   "cell_type": "markdown",
   "metadata": {
    "slideshow": {
     "slide_type": "subslide"
    }
   },
   "source": [
    "Read the dataset `resultsBySong.csv`.\n",
    "\n",
    "Execute the following code to read the data:\n",
    "\n",
    "`dt <- read.csv('resultsBySong.csv')`"
   ]
  },
  {
   "cell_type": "code",
   "execution_count": 84,
   "metadata": {
    "slideshow": {
     "slide_type": "fragment"
    }
   },
   "outputs": [],
   "source": []
  },
  {
   "cell_type": "markdown",
   "metadata": {
    "slideshow": {
     "slide_type": "slide"
    }
   },
   "source": [
    "## The Dataset<a name=\"data\">\n",
    "\n",
    "de Clercq and Temperley (2011) used the Rolling Stone magazine's list of **\"500 Greatest Songs of All Time\"**. From each of 5 decades 1950s to 1990s, they took the 20 top-ranked songs and provided annotations by hand."
   ]
  },
  {
   "cell_type": "markdown",
   "metadata": {
    "slideshow": {
     "slide_type": "fragment"
    }
   },
   "source": [
    "The data only provide David Temperley's (*dt*) annotations of the RS 5*20 Corpus."
   ]
  },
  {
   "cell_type": "markdown",
   "metadata": {
    "slideshow": {
     "slide_type": "slide"
    }
   },
   "source": [
    "Show the first and last six rows of the data:\n",
    "\n",
    "`head(dt)`"
   ]
  },
  {
   "cell_type": "code",
   "execution_count": null,
   "metadata": {
    "slideshow": {
     "slide_type": "fragment"
    }
   },
   "outputs": [],
   "source": []
  },
  {
   "cell_type": "markdown",
   "metadata": {
    "slideshow": {
     "slide_type": "slide"
    }
   },
   "source": [
    "Function `tail()` provides the last rows of the data (6 by default).    \n",
    "\n",
    "We can use additional `print()` for typical R-display (which covers more information, e.g. row indices:\n",
    "\n",
    "`print(tail(dt))`"
   ]
  },
  {
   "cell_type": "code",
   "execution_count": null,
   "metadata": {
    "slideshow": {
     "slide_type": "fragment"
    }
   },
   "outputs": [],
   "source": []
  },
  {
   "cell_type": "markdown",
   "metadata": {
    "slideshow": {
     "slide_type": "slide"
    }
   },
   "source": [
    "To understand what these data represent, take a look at the beginning of the chord list for Temperleys analysis of 'Hey Jude', cq. figure 3 in DeClercq + Temperley 2011:\n",
    "\n",
    "`head(dt[dt$song==\"hey_jude_dt\",],3)`"
   ]
  },
  {
   "cell_type": "code",
   "execution_count": 96,
   "metadata": {
    "slideshow": {
     "slide_type": "subslide"
    }
   },
   "outputs": [
    {
     "data": {
      "text/html": [
       "<table>\n",
       "<thead><tr><th></th><th scope=col>song</th><th scope=col>start</th><th scope=col>end</th><th scope=col>RN</th><th scope=col>relChr</th><th scope=col>relDia</th><th scope=col>tonic</th><th scope=col>abs</th></tr></thead>\n",
       "<tbody>\n",
       "\t<tr><th scope=row>3039</th><td>hey_jude_dt</td><td>0          </td><td>1          </td><td>I          </td><td>0          </td><td>1          </td><td>5          </td><td>5          </td></tr>\n",
       "\t<tr><th scope=row>3040</th><td>hey_jude_dt</td><td>1          </td><td>3          </td><td>V          </td><td>7          </td><td>5          </td><td>5          </td><td>0          </td></tr>\n",
       "\t<tr><th scope=row>3041</th><td>hey_jude_dt</td><td>3          </td><td>4          </td><td>I          </td><td>0          </td><td>1          </td><td>5          </td><td>5          </td></tr>\n",
       "</tbody>\n",
       "</table>\n"
      ],
      "text/latex": [
       "\\begin{tabular}{r|llllllll}\n",
       "  & song & start & end & RN & relChr & relDia & tonic & abs\\\\\n",
       "\\hline\n",
       "\t3039 & hey\\_jude\\_dt & 0               & 1               & I               & 0               & 1               & 5               & 5              \\\\\n",
       "\t3040 & hey\\_jude\\_dt & 1               & 3               & V               & 7               & 5               & 5               & 0              \\\\\n",
       "\t3041 & hey\\_jude\\_dt & 3               & 4               & I               & 0               & 1               & 5               & 5              \\\\\n",
       "\\end{tabular}\n"
      ],
      "text/markdown": [
       "\n",
       "| <!--/--> | song | start | end | RN | relChr | relDia | tonic | abs | \n",
       "|---|---|---|\n",
       "| 3039 | hey_jude_dt | 0           | 1           | I           | 0           | 1           | 5           | 5           | \n",
       "| 3040 | hey_jude_dt | 1           | 3           | V           | 7           | 5           | 5           | 0           | \n",
       "| 3041 | hey_jude_dt | 3           | 4           | I           | 0           | 1           | 5           | 5           | \n",
       "\n",
       "\n"
      ],
      "text/plain": [
       "     song        start end RN relChr relDia tonic abs\n",
       "3039 hey_jude_dt 0     1   I  0      1      5     5  \n",
       "3040 hey_jude_dt 1     3   V  7      5      5     0  \n",
       "3041 hey_jude_dt 3     4   I  0      1      5     5  "
      ]
     },
     "metadata": {},
     "output_type": "display_data"
    }
   ],
   "source": [
    "head(dt[dt$song==\"hey_jude_dt\",],3)"
   ]
  },
  {
   "cell_type": "markdown",
   "metadata": {
    "slideshow": {
     "slide_type": "fragment"
    }
   },
   "source": [
    "This is a chord list. A single row provides information on a given chord until progression to another one.\n",
    "- **song**: name of song\n",
    "\n",
    "Timeline of measures: measure 1 starts at 0, measure 2 at 1.0, ...\n",
    "- **start**: start of a new chord\n",
    "- **end**: end of that chord"
   ]
  },
  {
   "cell_type": "code",
   "execution_count": 97,
   "metadata": {
    "slideshow": {
     "slide_type": "subslide"
    }
   },
   "outputs": [
    {
     "data": {
      "text/html": [
       "<table>\n",
       "<thead><tr><th></th><th scope=col>song</th><th scope=col>start</th><th scope=col>end</th><th scope=col>RN</th><th scope=col>relChr</th><th scope=col>relDia</th><th scope=col>tonic</th><th scope=col>abs</th></tr></thead>\n",
       "<tbody>\n",
       "\t<tr><th scope=row>3039</th><td>hey_jude_dt</td><td>0          </td><td>1          </td><td>I          </td><td>0          </td><td>1          </td><td>5          </td><td>5          </td></tr>\n",
       "\t<tr><th scope=row>3040</th><td>hey_jude_dt</td><td>1          </td><td>3          </td><td>V          </td><td>7          </td><td>5          </td><td>5          </td><td>0          </td></tr>\n",
       "\t<tr><th scope=row>3041</th><td>hey_jude_dt</td><td>3          </td><td>4          </td><td>I          </td><td>0          </td><td>1          </td><td>5          </td><td>5          </td></tr>\n",
       "</tbody>\n",
       "</table>\n"
      ],
      "text/latex": [
       "\\begin{tabular}{r|llllllll}\n",
       "  & song & start & end & RN & relChr & relDia & tonic & abs\\\\\n",
       "\\hline\n",
       "\t3039 & hey\\_jude\\_dt & 0               & 1               & I               & 0               & 1               & 5               & 5              \\\\\n",
       "\t3040 & hey\\_jude\\_dt & 1               & 3               & V               & 7               & 5               & 5               & 0              \\\\\n",
       "\t3041 & hey\\_jude\\_dt & 3               & 4               & I               & 0               & 1               & 5               & 5              \\\\\n",
       "\\end{tabular}\n"
      ],
      "text/markdown": [
       "\n",
       "| <!--/--> | song | start | end | RN | relChr | relDia | tonic | abs | \n",
       "|---|---|---|\n",
       "| 3039 | hey_jude_dt | 0           | 1           | I           | 0           | 1           | 5           | 5           | \n",
       "| 3040 | hey_jude_dt | 1           | 3           | V           | 7           | 5           | 5           | 0           | \n",
       "| 3041 | hey_jude_dt | 3           | 4           | I           | 0           | 1           | 5           | 5           | \n",
       "\n",
       "\n"
      ],
      "text/plain": [
       "     song        start end RN relChr relDia tonic abs\n",
       "3039 hey_jude_dt 0     1   I  0      1      5     5  \n",
       "3040 hey_jude_dt 1     3   V  7      5      5     0  \n",
       "3041 hey_jude_dt 3     4   I  0      1      5     5  "
      ]
     },
     "metadata": {},
     "output_type": "display_data"
    }
   ],
   "source": [
    "head(dt[dt$song==\"hey_jude_dt\",],3)"
   ]
  },
  {
   "cell_type": "markdown",
   "metadata": {
    "slideshow": {
     "slide_type": "fragment"
    }
   },
   "source": [
    "Harmony:\n",
    "- **RN**: Roman numeral label, e.g. I64 for an 64-inversion of the tonic I\n",
    "- **relChr**: The \"chromatic relative root\", i.e. the root as a chromatic interval above the tonic:   \n",
    "e.g. I is 0, V is 7\n",
    "- **relDia**: Diatonic relative root: I is 1, II is 2 ...\n",
    "- **tonic**: the key in pitch-class terms. F=5, C=0, ...\n",
    "- **abs**: the root in absolute terms, referring to te pitch-class. The tonic in pitch class F=5 is 5, the dominant in pitch class F=5 is 0."
   ]
  },
  {
   "cell_type": "markdown",
   "metadata": {
    "slideshow": {
     "slide_type": "subslide"
    }
   },
   "source": [
    "Listen to the song, and compare to the first 20 rows of the chord list for Hey Jude (The Beatles):\n",
    "\n",
    "`head(dt[dt$song==\"hey_jude_dt\",],20)`"
   ]
  },
  {
   "cell_type": "code",
   "execution_count": 98,
   "metadata": {
    "slideshow": {
     "slide_type": "subslide"
    }
   },
   "outputs": [
    {
     "data": {
      "text/html": [
       "<table>\n",
       "<thead><tr><th></th><th scope=col>song</th><th scope=col>start</th><th scope=col>end</th><th scope=col>RN</th><th scope=col>relChr</th><th scope=col>relDia</th><th scope=col>tonic</th><th scope=col>abs</th></tr></thead>\n",
       "<tbody>\n",
       "\t<tr><th scope=row>3039</th><td>hey_jude_dt</td><td> 0.0       </td><td> 1.0       </td><td>I          </td><td>0          </td><td>1          </td><td>5          </td><td> 5         </td></tr>\n",
       "\t<tr><th scope=row>3040</th><td>hey_jude_dt</td><td> 1.0       </td><td> 3.0       </td><td>V          </td><td>7          </td><td>5          </td><td>5          </td><td> 0         </td></tr>\n",
       "\t<tr><th scope=row>3041</th><td>hey_jude_dt</td><td> 3.0       </td><td> 4.0       </td><td>I          </td><td>0          </td><td>1          </td><td>5          </td><td> 5         </td></tr>\n",
       "\t<tr><th scope=row>3042</th><td>hey_jude_dt</td><td> 4.0       </td><td> 5.0       </td><td>IV         </td><td>5          </td><td>4          </td><td>5          </td><td>10         </td></tr>\n",
       "\t<tr><th scope=row>3043</th><td>hey_jude_dt</td><td> 5.0       </td><td> 6.0       </td><td>I          </td><td>0          </td><td>1          </td><td>5          </td><td> 5         </td></tr>\n",
       "\t<tr><th scope=row>3044</th><td>hey_jude_dt</td><td> 6.0       </td><td> 7.0       </td><td>V          </td><td>7          </td><td>5          </td><td>5          </td><td> 0         </td></tr>\n",
       "\t<tr><th scope=row>3045</th><td>hey_jude_dt</td><td> 7.0       </td><td> 9.0       </td><td>I          </td><td>0          </td><td>1          </td><td>5          </td><td> 5         </td></tr>\n",
       "\t<tr><th scope=row>3046</th><td>hey_jude_dt</td><td> 9.0       </td><td>11.0       </td><td>V          </td><td>7          </td><td>5          </td><td>5          </td><td> 0         </td></tr>\n",
       "\t<tr><th scope=row>3047</th><td>hey_jude_dt</td><td>11.0       </td><td>12.0       </td><td>I          </td><td>0          </td><td>1          </td><td>5          </td><td> 5         </td></tr>\n",
       "\t<tr><th scope=row>3048</th><td>hey_jude_dt</td><td>12.0       </td><td>13.0       </td><td>IV         </td><td>5          </td><td>4          </td><td>5          </td><td>10         </td></tr>\n",
       "\t<tr><th scope=row>3049</th><td>hey_jude_dt</td><td>13.0       </td><td>14.0       </td><td>I          </td><td>0          </td><td>1          </td><td>5          </td><td> 5         </td></tr>\n",
       "\t<tr><th scope=row>3050</th><td>hey_jude_dt</td><td>14.0       </td><td>15.0       </td><td>V          </td><td>7          </td><td>5          </td><td>5          </td><td> 0         </td></tr>\n",
       "\t<tr><th scope=row>3051</th><td>hey_jude_dt</td><td>15.0       </td><td>17.0       </td><td>I          </td><td>0          </td><td>1          </td><td>5          </td><td> 5         </td></tr>\n",
       "\t<tr><th scope=row>3052</th><td>hey_jude_dt</td><td>17.0       </td><td>17.5       </td><td>IV         </td><td>5          </td><td>4          </td><td>5          </td><td>10         </td></tr>\n",
       "\t<tr><th scope=row>3053</th><td>hey_jude_dt</td><td>17.5       </td><td>18.0       </td><td>I6         </td><td>0          </td><td>1          </td><td>5          </td><td> 5         </td></tr>\n",
       "\t<tr><th scope=row>3054</th><td>hey_jude_dt</td><td>18.0       </td><td>18.5       </td><td>ii         </td><td>2          </td><td>2          </td><td>5          </td><td> 7         </td></tr>\n",
       "\t<tr><th scope=row>3055</th><td>hey_jude_dt</td><td>18.5       </td><td>19.0       </td><td>vi6        </td><td>9          </td><td>6          </td><td>5          </td><td> 2         </td></tr>\n",
       "\t<tr><th scope=row>3056</th><td>hey_jude_dt</td><td>19.0       </td><td>20.0       </td><td>V6         </td><td>7          </td><td>5          </td><td>5          </td><td> 0         </td></tr>\n",
       "\t<tr><th scope=row>3057</th><td>hey_jude_dt</td><td>20.0       </td><td>22.0       </td><td>I          </td><td>0          </td><td>1          </td><td>5          </td><td> 5         </td></tr>\n",
       "\t<tr><th scope=row>3058</th><td>hey_jude_dt</td><td>22.0       </td><td>22.5       </td><td>IV         </td><td>5          </td><td>4          </td><td>5          </td><td>10         </td></tr>\n",
       "</tbody>\n",
       "</table>\n"
      ],
      "text/latex": [
       "\\begin{tabular}{r|llllllll}\n",
       "  & song & start & end & RN & relChr & relDia & tonic & abs\\\\\n",
       "\\hline\n",
       "\t3039 & hey\\_jude\\_dt &  0.0            &  1.0            & I               & 0               & 1               & 5               &  5             \\\\\n",
       "\t3040 & hey\\_jude\\_dt &  1.0            &  3.0            & V               & 7               & 5               & 5               &  0             \\\\\n",
       "\t3041 & hey\\_jude\\_dt &  3.0            &  4.0            & I               & 0               & 1               & 5               &  5             \\\\\n",
       "\t3042 & hey\\_jude\\_dt &  4.0            &  5.0            & IV              & 5               & 4               & 5               & 10             \\\\\n",
       "\t3043 & hey\\_jude\\_dt &  5.0            &  6.0            & I               & 0               & 1               & 5               &  5             \\\\\n",
       "\t3044 & hey\\_jude\\_dt &  6.0            &  7.0            & V               & 7               & 5               & 5               &  0             \\\\\n",
       "\t3045 & hey\\_jude\\_dt &  7.0            &  9.0            & I               & 0               & 1               & 5               &  5             \\\\\n",
       "\t3046 & hey\\_jude\\_dt &  9.0            & 11.0            & V               & 7               & 5               & 5               &  0             \\\\\n",
       "\t3047 & hey\\_jude\\_dt & 11.0            & 12.0            & I               & 0               & 1               & 5               &  5             \\\\\n",
       "\t3048 & hey\\_jude\\_dt & 12.0            & 13.0            & IV              & 5               & 4               & 5               & 10             \\\\\n",
       "\t3049 & hey\\_jude\\_dt & 13.0            & 14.0            & I               & 0               & 1               & 5               &  5             \\\\\n",
       "\t3050 & hey\\_jude\\_dt & 14.0            & 15.0            & V               & 7               & 5               & 5               &  0             \\\\\n",
       "\t3051 & hey\\_jude\\_dt & 15.0            & 17.0            & I               & 0               & 1               & 5               &  5             \\\\\n",
       "\t3052 & hey\\_jude\\_dt & 17.0            & 17.5            & IV              & 5               & 4               & 5               & 10             \\\\\n",
       "\t3053 & hey\\_jude\\_dt & 17.5            & 18.0            & I6              & 0               & 1               & 5               &  5             \\\\\n",
       "\t3054 & hey\\_jude\\_dt & 18.0            & 18.5            & ii              & 2               & 2               & 5               &  7             \\\\\n",
       "\t3055 & hey\\_jude\\_dt & 18.5            & 19.0            & vi6             & 9               & 6               & 5               &  2             \\\\\n",
       "\t3056 & hey\\_jude\\_dt & 19.0            & 20.0            & V6              & 7               & 5               & 5               &  0             \\\\\n",
       "\t3057 & hey\\_jude\\_dt & 20.0            & 22.0            & I               & 0               & 1               & 5               &  5             \\\\\n",
       "\t3058 & hey\\_jude\\_dt & 22.0            & 22.5            & IV              & 5               & 4               & 5               & 10             \\\\\n",
       "\\end{tabular}\n"
      ],
      "text/markdown": [
       "\n",
       "| <!--/--> | song | start | end | RN | relChr | relDia | tonic | abs | \n",
       "|---|---|---|---|---|---|---|---|---|---|---|---|---|---|---|---|---|---|---|---|\n",
       "| 3039 | hey_jude_dt |  0.0        |  1.0        | I           | 0           | 1           | 5           |  5          | \n",
       "| 3040 | hey_jude_dt |  1.0        |  3.0        | V           | 7           | 5           | 5           |  0          | \n",
       "| 3041 | hey_jude_dt |  3.0        |  4.0        | I           | 0           | 1           | 5           |  5          | \n",
       "| 3042 | hey_jude_dt |  4.0        |  5.0        | IV          | 5           | 4           | 5           | 10          | \n",
       "| 3043 | hey_jude_dt |  5.0        |  6.0        | I           | 0           | 1           | 5           |  5          | \n",
       "| 3044 | hey_jude_dt |  6.0        |  7.0        | V           | 7           | 5           | 5           |  0          | \n",
       "| 3045 | hey_jude_dt |  7.0        |  9.0        | I           | 0           | 1           | 5           |  5          | \n",
       "| 3046 | hey_jude_dt |  9.0        | 11.0        | V           | 7           | 5           | 5           |  0          | \n",
       "| 3047 | hey_jude_dt | 11.0        | 12.0        | I           | 0           | 1           | 5           |  5          | \n",
       "| 3048 | hey_jude_dt | 12.0        | 13.0        | IV          | 5           | 4           | 5           | 10          | \n",
       "| 3049 | hey_jude_dt | 13.0        | 14.0        | I           | 0           | 1           | 5           |  5          | \n",
       "| 3050 | hey_jude_dt | 14.0        | 15.0        | V           | 7           | 5           | 5           |  0          | \n",
       "| 3051 | hey_jude_dt | 15.0        | 17.0        | I           | 0           | 1           | 5           |  5          | \n",
       "| 3052 | hey_jude_dt | 17.0        | 17.5        | IV          | 5           | 4           | 5           | 10          | \n",
       "| 3053 | hey_jude_dt | 17.5        | 18.0        | I6          | 0           | 1           | 5           |  5          | \n",
       "| 3054 | hey_jude_dt | 18.0        | 18.5        | ii          | 2           | 2           | 5           |  7          | \n",
       "| 3055 | hey_jude_dt | 18.5        | 19.0        | vi6         | 9           | 6           | 5           |  2          | \n",
       "| 3056 | hey_jude_dt | 19.0        | 20.0        | V6          | 7           | 5           | 5           |  0          | \n",
       "| 3057 | hey_jude_dt | 20.0        | 22.0        | I           | 0           | 1           | 5           |  5          | \n",
       "| 3058 | hey_jude_dt | 22.0        | 22.5        | IV          | 5           | 4           | 5           | 10          | \n",
       "\n",
       "\n"
      ],
      "text/plain": [
       "     song        start end  RN  relChr relDia tonic abs\n",
       "3039 hey_jude_dt  0.0   1.0 I   0      1      5      5 \n",
       "3040 hey_jude_dt  1.0   3.0 V   7      5      5      0 \n",
       "3041 hey_jude_dt  3.0   4.0 I   0      1      5      5 \n",
       "3042 hey_jude_dt  4.0   5.0 IV  5      4      5     10 \n",
       "3043 hey_jude_dt  5.0   6.0 I   0      1      5      5 \n",
       "3044 hey_jude_dt  6.0   7.0 V   7      5      5      0 \n",
       "3045 hey_jude_dt  7.0   9.0 I   0      1      5      5 \n",
       "3046 hey_jude_dt  9.0  11.0 V   7      5      5      0 \n",
       "3047 hey_jude_dt 11.0  12.0 I   0      1      5      5 \n",
       "3048 hey_jude_dt 12.0  13.0 IV  5      4      5     10 \n",
       "3049 hey_jude_dt 13.0  14.0 I   0      1      5      5 \n",
       "3050 hey_jude_dt 14.0  15.0 V   7      5      5      0 \n",
       "3051 hey_jude_dt 15.0  17.0 I   0      1      5      5 \n",
       "3052 hey_jude_dt 17.0  17.5 IV  5      4      5     10 \n",
       "3053 hey_jude_dt 17.5  18.0 I6  0      1      5      5 \n",
       "3054 hey_jude_dt 18.0  18.5 ii  2      2      5      7 \n",
       "3055 hey_jude_dt 18.5  19.0 vi6 9      6      5      2 \n",
       "3056 hey_jude_dt 19.0  20.0 V6  7      5      5      0 \n",
       "3057 hey_jude_dt 20.0  22.0 I   0      1      5      5 \n",
       "3058 hey_jude_dt 22.0  22.5 IV  5      4      5     10 "
      ]
     },
     "metadata": {},
     "output_type": "display_data"
    }
   ],
   "source": [
    "head(dt[dt$song==\"hey_jude_dt\",],20)"
   ]
  },
  {
   "cell_type": "markdown",
   "metadata": {
    "slideshow": {
     "slide_type": "slide"
    }
   },
   "source": [
    "We will use the information on *chromatic relative roots* for our descriptive analyses:\n",
    "\n",
    "- **Overall frequency distribution of chromatic relative roots**\n",
    "- **Frequency distribution of pre- and post-tonics**\n",
    "- **Frequency distribution of all chord transitions**"
   ]
  },
  {
   "cell_type": "markdown",
   "metadata": {
    "slideshow": {
     "slide_type": "slide"
    }
   },
   "source": [
    "## Getting started: Identification of pre- and post-tonics<a name=\"start\">"
   ]
  },
  {
   "cell_type": "markdown",
   "metadata": {
    "slideshow": {
     "slide_type": "slide"
    }
   },
   "source": [
    "Let's show the overall structure of the data:\n",
    "\n",
    "`str(dt)`"
   ]
  },
  {
   "cell_type": "code",
   "execution_count": null,
   "metadata": {
    "slideshow": {
     "slide_type": "fragment"
    }
   },
   "outputs": [],
   "source": []
  },
  {
   "cell_type": "markdown",
   "metadata": {
    "slideshow": {
     "slide_type": "fragment"
    }
   },
   "source": [
    "The data structure is a 2-dimensional dataframe, covering 9.300 observations (here: annotations) of the 8 variables described above."
   ]
  },
  {
   "cell_type": "markdown",
   "metadata": {
    "slideshow": {
     "slide_type": "slide"
    }
   },
   "source": [
    "### Selecting columns, rows, and single elements<a name=\"sel\">"
   ]
  },
  {
   "cell_type": "markdown",
   "metadata": {
    "slideshow": {
     "slide_type": "fragment"
    }
   },
   "source": [
    "Did you notice the `$`-sign in the list of all variables? \n",
    "We can make use of that sign do take a subset of a specified column from the dataframe:\n",
    "\n",
    "`dt$song` will produce a (1-dimensional) vector of all songs. Let's print it:"
   ]
  },
  {
   "cell_type": "code",
   "execution_count": 13,
   "metadata": {
    "slideshow": {
     "slide_type": "slide"
    }
   },
   "outputs": [],
   "source": []
  },
  {
   "cell_type": "markdown",
   "metadata": {
    "slideshow": {
     "slide_type": "slide"
    }
   },
   "source": [
    "The length of `dt$song` (i.e. the number of elements) equals the number of rows of dataframe `dt`:\n",
    "\n",
    "`length(dt$song)`   \n",
    "`nrow(dt)`"
   ]
  },
  {
   "cell_type": "code",
   "execution_count": null,
   "metadata": {
    "slideshow": {
     "slide_type": "fragment"
    }
   },
   "outputs": [],
   "source": []
  },
  {
   "cell_type": "markdown",
   "metadata": {
    "slideshow": {
     "slide_type": "slide"
    }
   },
   "source": [
    "The numbers in brackets indicate the position of vectors, e.g. `[2]` for the second element of the vector:"
   ]
  },
  {
   "cell_type": "code",
   "execution_count": null,
   "metadata": {
    "slideshow": {
     "slide_type": "fragment"
    }
   },
   "outputs": [],
   "source": [
    "print(dt$song)"
   ]
  },
  {
   "cell_type": "markdown",
   "metadata": {
    "slideshow": {
     "slide_type": "slide"
    }
   },
   "source": [
    "This position index can be used to specify elements in the vector. \n",
    "\n",
    "For example, `dt$song[2000]` will return the 2000th vector element:"
   ]
  },
  {
   "cell_type": "code",
   "execution_count": null,
   "metadata": {
    "slideshow": {
     "slide_type": "fragment"
    }
   },
   "outputs": [],
   "source": []
  },
  {
   "cell_type": "markdown",
   "metadata": {
    "slideshow": {
     "slide_type": "fragment"
    }
   },
   "source": [
    "Please remember that we used a vector (`2000` is a vector with length 1) to specify elements in another vector:"
   ]
  },
  {
   "cell_type": "code",
   "execution_count": 18,
   "metadata": {
    "slideshow": {
     "slide_type": "fragment"
    }
   },
   "outputs": [
    {
     "name": "stdout",
     "output_type": "stream",
     "text": [
      "[1] 2000\n"
     ]
    }
   ],
   "source": [
    "print(2000)"
   ]
  },
  {
   "cell_type": "markdown",
   "metadata": {
    "slideshow": {
     "slide_type": "slide"
    }
   },
   "source": [
    "**Small exercise**: Specify the position index in such a way that it always returns the *second to last* element of a vector. \n",
    "\n",
    "It should work even if you don't know the number of elements of your vector. "
   ]
  },
  {
   "cell_type": "code",
   "execution_count": null,
   "metadata": {
    "slideshow": {
     "slide_type": "fragment"
    }
   },
   "outputs": [],
   "source": []
  },
  {
   "cell_type": "markdown",
   "metadata": {
    "slideshow": {
     "slide_type": "slide"
    }
   },
   "source": [
    "A dataframe like `dt` is 2-dimensional. To specify subsets of a data frame, we thus need two indices in brackets:\n",
    "\n",
    "The first index refers to rows, the second the columns: \n",
    "    \n",
    "`dt[row,col]`\n",
    "\n",
    "`dt[3,]` returns the third row as a vector   \n",
    "`dt[,3]` returns the third column as a vector   \n",
    "`dt[3,3]` returns only the data entry in third row, third column as a vector"
   ]
  },
  {
   "cell_type": "code",
   "execution_count": null,
   "metadata": {
    "slideshow": {
     "slide_type": "fragment"
    }
   },
   "outputs": [],
   "source": []
  },
  {
   "cell_type": "markdown",
   "metadata": {
    "slideshow": {
     "slide_type": "slide"
    }
   },
   "source": [
    "## Overall frequency distribution of chromatic relative roots<a name=\"overfreq\">"
   ]
  },
  {
   "cell_type": "markdown",
   "metadata": {
    "slideshow": {
     "slide_type": "slide"
    }
   },
   "source": [
    "As a first step, we create a frequency distribution table of the chromatic relative roots, the *chromatic intervals of roots above the tonic*: `dt$relChr`. \n",
    "\n",
    "Remember: the tonic takes value 0, dominant is 7, sub-dominant is 5, ...\n",
    "\n",
    "The function we need is `table()`:\n",
    "\n",
    "`table(dt$relChr)`"
   ]
  },
  {
   "cell_type": "code",
   "execution_count": null,
   "metadata": {
    "slideshow": {
     "slide_type": "fragment"
    }
   },
   "outputs": [],
   "source": []
  },
  {
   "cell_type": "markdown",
   "metadata": {
    "slideshow": {
     "slide_type": "slide"
    }
   },
   "source": [
    "You can now rank the chromatic relative roots by their frequency of occurence using `sort()`:\n",
    "\n",
    "`sort(table(dt$relChr))`"
   ]
  },
  {
   "cell_type": "code",
   "execution_count": null,
   "metadata": {
    "slideshow": {
     "slide_type": "fragment"
    }
   },
   "outputs": [],
   "source": []
  },
  {
   "cell_type": "markdown",
   "metadata": {
    "slideshow": {
     "slide_type": "slide"
    }
   },
   "source": [
    "Or reverse it in order to return the frequencies of occurence from highest to lowest:\n",
    "\n",
    "`rev(sort(table(dt$relChr)))`"
   ]
  },
  {
   "cell_type": "code",
   "execution_count": null,
   "metadata": {
    "slideshow": {
     "slide_type": "fragment"
    }
   },
   "outputs": [],
   "source": []
  },
  {
   "cell_type": "markdown",
   "metadata": {
    "slideshow": {
     "slide_type": "slide"
    }
   },
   "source": [
    "The following code produces a barplot of the overall frequency distribution:"
   ]
  },
  {
   "cell_type": "code",
   "execution_count": 7,
   "metadata": {
    "slideshow": {
     "slide_type": "slide"
    }
   },
   "outputs": [
    {
     "data": {
      "image/png": "[encoded data removed]",
      "text/plain": [
       "Plot with title “Instances of Chromatic Relative Roots in the RS 5x20 Corpus (DT)”"
      ]
     },
     "metadata": {},
     "output_type": "display_data"
    }
   ],
   "source": [
    "barplot(table(dt$relChr),                                                         # take the fequency distribtion table as data for plotting\n",
    "        main=\"Instances of Chromatic Relative Roots in the RS 5x20 Corpus (DT)\",  # specify the main title as indicated by a character string\n",
    "        ylab=\"frequency\", xlab=\"chromatic relative root\",                         # make the plot literate by specification of y and x labels\n",
    "        ylim=c(0,3500),  las=1)                                                   # extra's': specification of y-axis limits and the orientation of axis labels"
   ]
  },
  {
   "cell_type": "markdown",
   "metadata": {
    "slideshow": {
     "slide_type": "slide"
    }
   },
   "source": [
    "We will now create an extended distribution table of chromatic relative roots in the RS 5x20 corpus (cq. DeClercq + Temperley 2011, page 60). This table should cover:\n",
    "- **Instances**: absolute frequencies of chrom. rel. roots\n",
    "- **Proportional of total**: relative frequencies of chrom. rel. roots\n",
    "- **Song instances**: number of songs that cover at least one of the chrom. rel. roots (e.g. 39 song instances with root 2 means: in 39 of all songs there is at least one II)\n",
    "\n",
    "Remember that   \n",
    "\"Root I\"  equals `dt$relChr == 0`,   \n",
    "\"Root bII\" equals `dt$relChr == 1`, ...   \n",
    "\"Root VII\" equals `dt$relChr == 11`"
   ]
  },
  {
   "cell_type": "markdown",
   "metadata": {
    "slideshow": {
     "slide_type": "slide"
    }
   },
   "source": [
    "For column \"Instances\", here's the frequency distribution table again. For columnar orientation of tabular data, use function `cbind()`:\n",
    "\n",
    "`cbind(table(dt$relChr))`"
   ]
  },
  {
   "cell_type": "code",
   "execution_count": null,
   "metadata": {
    "slideshow": {
     "slide_type": "fragment"
    }
   },
   "outputs": [],
   "source": [
    "cbind(table(dt$relChr))"
   ]
  },
  {
   "cell_type": "markdown",
   "metadata": {
    "slideshow": {
     "slide_type": "slide"
    }
   },
   "source": [
    "Assign this to an object called `instances`:\n",
    "\n",
    "`instances <- cbind(table(dt$relChr))`"
   ]
  },
  {
   "cell_type": "code",
   "execution_count": 27,
   "metadata": {
    "slideshow": {
     "slide_type": "fragment"
    }
   },
   "outputs": [],
   "source": [
    "instances <- cbind(table(dt$relChr))"
   ]
  },
  {
   "cell_type": "markdown",
   "metadata": {
    "slideshow": {
     "slide_type": "slide"
    }
   },
   "source": [
    "For column \"Proportion of total\", create a table of relative frequencies. This can be done by use of the additional function `prop.table()`, which converts the absolute frequencies in the table to relative frequencies:\n",
    "\n",
    "`prop.table(cbind(table(dt$relChr)))`"
   ]
  },
  {
   "cell_type": "code",
   "execution_count": null,
   "metadata": {
    "slideshow": {
     "slide_type": "fragment"
    }
   },
   "outputs": [],
   "source": []
  },
  {
   "cell_type": "markdown",
   "metadata": {
    "slideshow": {
     "slide_type": "slide"
    }
   },
   "source": [
    "Rounding these numbers to three decimal places is provided by additional `round()`:\n",
    "\n",
    "`round(prop.table(cbind(table(dt$relChr))),3)`"
   ]
  },
  {
   "cell_type": "code",
   "execution_count": 105,
   "metadata": {
    "slideshow": {
     "slide_type": "fragment"
    }
   },
   "outputs": [
    {
     "data": {
      "text/html": [
       "<table>\n",
       "<tbody>\n",
       "\t<tr><th scope=row>0</th><td>0.330</td></tr>\n",
       "\t<tr><th scope=row>1</th><td>0.006</td></tr>\n",
       "\t<tr><th scope=row>2</th><td>0.035</td></tr>\n",
       "\t<tr><th scope=row>3</th><td>0.025</td></tr>\n",
       "\t<tr><th scope=row>4</th><td>0.021</td></tr>\n",
       "\t<tr><th scope=row>5</th><td>0.221</td></tr>\n",
       "\t<tr><th scope=row>6</th><td>0.003</td></tr>\n",
       "\t<tr><th scope=row>7</th><td>0.157</td></tr>\n",
       "\t<tr><th scope=row>8</th><td>0.042</td></tr>\n",
       "\t<tr><th scope=row>9</th><td>0.073</td></tr>\n",
       "\t<tr><th scope=row>10</th><td>0.085</td></tr>\n",
       "\t<tr><th scope=row>11</th><td>0.004</td></tr>\n",
       "</tbody>\n",
       "</table>\n"
      ],
      "text/latex": [
       "\\begin{tabular}{r|l}\n",
       "\t0 & 0.330\\\\\n",
       "\t1 & 0.006\\\\\n",
       "\t2 & 0.035\\\\\n",
       "\t3 & 0.025\\\\\n",
       "\t4 & 0.021\\\\\n",
       "\t5 & 0.221\\\\\n",
       "\t6 & 0.003\\\\\n",
       "\t7 & 0.157\\\\\n",
       "\t8 & 0.042\\\\\n",
       "\t9 & 0.073\\\\\n",
       "\t10 & 0.085\\\\\n",
       "\t11 & 0.004\\\\\n",
       "\\end{tabular}\n"
      ],
      "text/markdown": [
       "\n",
       "| 0 | 0.330 | \n",
       "| 1 | 0.006 | \n",
       "| 2 | 0.035 | \n",
       "| 3 | 0.025 | \n",
       "| 4 | 0.021 | \n",
       "| 5 | 0.221 | \n",
       "| 6 | 0.003 | \n",
       "| 7 | 0.157 | \n",
       "| 8 | 0.042 | \n",
       "| 9 | 0.073 | \n",
       "| 10 | 0.085 | \n",
       "| 11 | 0.004 | \n",
       "\n",
       "\n"
      ],
      "text/plain": [
       "   [,1] \n",
       "0  0.330\n",
       "1  0.006\n",
       "2  0.035\n",
       "3  0.025\n",
       "4  0.021\n",
       "5  0.221\n",
       "6  0.003\n",
       "7  0.157\n",
       "8  0.042\n",
       "9  0.073\n",
       "10 0.085\n",
       "11 0.004"
      ]
     },
     "metadata": {},
     "output_type": "display_data"
    }
   ],
   "source": [
    "round(prop.table(cbind(table(dt$relChr))),3)"
   ]
  },
  {
   "cell_type": "code",
   "execution_count": 30,
   "metadata": {
    "slideshow": {
     "slide_type": "slide"
    }
   },
   "outputs": [],
   "source": [
    "prop <- round(prop.table(cbind(table(dt$relChr))),3)"
   ]
  },
  {
   "cell_type": "markdown",
   "metadata": {
    "slideshow": {
     "slide_type": "slide"
    }
   },
   "source": [
    "Creation of column \"Song instances\" is a bit more difficult.    \n",
    "As a first step to understand the strategy, start with a subset of dataframe `dt` consisting of only those *rows* for which `dt$relChr == 1`. \n",
    "\n",
    "`dt[dt$relChr == 1,]`\n",
    "\n",
    "In other words, here are all occurances of the relative chromatic root 1 (i.e. dimished subdominant parallel bII) within the corpus."
   ]
  },
  {
   "cell_type": "code",
   "execution_count": null,
   "metadata": {
    "slideshow": {
     "slide_type": "fragment"
    }
   },
   "outputs": [],
   "source": []
  },
  {
   "cell_type": "markdown",
   "metadata": {
    "slideshow": {
     "slide_type": "slide"
    }
   },
   "source": [
    "Now, `dt[dt$relChr == 1,1]` returns only the first column of that subset (i.e. the song names) as a vector:"
   ]
  },
  {
   "cell_type": "code",
   "execution_count": null,
   "metadata": {
    "slideshow": {
     "slide_type": "fragment"
    }
   },
   "outputs": [],
   "source": []
  },
  {
   "cell_type": "markdown",
   "metadata": {
    "slideshow": {
     "slide_type": "slide"
    }
   },
   "source": [
    "Use function `print()` to show additional information of that subset (vector indices)\n",
    "\n",
    "`print(dt[dt$relChr == 1, 1])`"
   ]
  },
  {
   "cell_type": "code",
   "execution_count": 107,
   "metadata": {
    "slideshow": {
     "slide_type": "fragment"
    }
   },
   "outputs": [
    {
     "name": "stdout",
     "output_type": "stream",
     "text": [
      " [1] heartbreak_hotel_dt        in_bloom_dt               \n",
      " [3] in_bloom_dt                in_bloom_dt               \n",
      " [5] in_bloom_dt                in_bloom_dt               \n",
      " [7] in_bloom_dt                in_bloom_dt               \n",
      " [9] in_bloom_dt                in_bloom_dt               \n",
      "[11] in_bloom_dt                in_bloom_dt               \n",
      "[13] in_bloom_dt                in_bloom_dt               \n",
      "[15] in_bloom_dt                living_for_the_city_dt    \n",
      "[17] living_for_the_city_dt     living_for_the_city_dt    \n",
      "[19] living_for_the_city_dt     living_for_the_city_dt    \n",
      "[21] living_for_the_city_dt     london_calling_dt         \n",
      "[23] london_calling_dt          london_calling_dt         \n",
      "[25] london_calling_dt          london_calling_dt         \n",
      "[27] london_calling_dt          london_calling_dt         \n",
      "[29] london_calling_dt          london_calling_dt         \n",
      "[31] london_calling_dt          london_calling_dt         \n",
      "[33] london_calling_dt          london_calling_dt         \n",
      "[35] london_calling_dt          london_calling_dt         \n",
      "[37] london_calling_dt          london_calling_dt         \n",
      "[39] london_calling_dt          london_calling_dt         \n",
      "[41] london_calling_dt          london_calling_dt         \n",
      "[43] london_calling_dt          london_calling_dt         \n",
      "[45] london_calling_dt          london_calling_dt         \n",
      "[47] london_calling_dt          london_calling_dt         \n",
      "[49] london_calling_dt          smells_like_teen_spirit_dt\n",
      "[51] smells_like_teen_spirit_dt smells_like_teen_spirit_dt\n",
      "[53] smells_like_teen_spirit_dt\n",
      "99 Levels: 1999_dt a_change_is_gonna_come_dt ... yesterday_dt\n"
     ]
    }
   ],
   "source": [
    "print(dt[dt$relChr == 1, 1])"
   ]
  },
  {
   "cell_type": "markdown",
   "metadata": {
    "slideshow": {
     "slide_type": "slide"
    }
   },
   "source": [
    "Function `unique()`extracts unique elements of a vector.    \n",
    "\n",
    "Use that function here to return all unique names of songs in which at least one dimished subdominant parralel occurs:"
   ]
  },
  {
   "cell_type": "code",
   "execution_count": 111,
   "metadata": {
    "slideshow": {
     "slide_type": "fragment"
    }
   },
   "outputs": [
    {
     "name": "stdout",
     "output_type": "stream",
     "text": [
      "[1] heartbreak_hotel_dt        in_bloom_dt               \n",
      "[3] living_for_the_city_dt     london_calling_dt         \n",
      "[5] smells_like_teen_spirit_dt\n",
      "99 Levels: 1999_dt a_change_is_gonna_come_dt ... yesterday_dt\n"
     ]
    }
   ],
   "source": [
    "print(unique(dt[dt$relChr == 1, 1]))"
   ]
  },
  {
   "cell_type": "markdown",
   "metadata": {
    "slideshow": {
     "slide_type": "slide"
    }
   },
   "source": [
    "Finally, count the elements of that vector by computing its length, function: `length()`:"
   ]
  },
  {
   "cell_type": "code",
   "execution_count": 112,
   "metadata": {
    "slideshow": {
     "slide_type": "fragment"
    }
   },
   "outputs": [
    {
     "data": {
      "text/html": [
       "5"
      ],
      "text/latex": [
       "5"
      ],
      "text/markdown": [
       "5"
      ],
      "text/plain": [
       "[1] 5"
      ]
     },
     "metadata": {},
     "output_type": "display_data"
    }
   ],
   "source": [
    "length(unique(dt[dt$relChr == 1, 1]))"
   ]
  },
  {
   "cell_type": "markdown",
   "metadata": {
    "slideshow": {
     "slide_type": "fragment"
    }
   },
   "source": [
    "Thus, 5 is the number of songs in which at least one diminished subdominant parallel occurs."
   ]
  },
  {
   "cell_type": "markdown",
   "metadata": {
    "slideshow": {
     "slide_type": "slide"
    }
   },
   "source": [
    "\n",
    "To make the code more flexible, use a variable that should index the chromatic relative roots, let's call it `i`. \n",
    "\n",
    "Replace the value which equals `dt$relChr` accordingly.\n",
    "\n",
    "For `i = 1`, we will get the same result:"
   ]
  },
  {
   "cell_type": "code",
   "execution_count": 113,
   "metadata": {
    "slideshow": {
     "slide_type": "fragment"
    }
   },
   "outputs": [
    {
     "data": {
      "text/html": [
       "5"
      ],
      "text/latex": [
       "5"
      ],
      "text/markdown": [
       "5"
      ],
      "text/plain": [
       "[1] 5"
      ]
     },
     "metadata": {},
     "output_type": "display_data"
    }
   ],
   "source": [
    "length(unique(dt[dt$relChr == 1, 1]))"
   ]
  },
  {
   "cell_type": "markdown",
   "metadata": {
    "slideshow": {
     "slide_type": "slide"
    }
   },
   "source": [
    "Following this strategy, song instances can now be computed *for all chromatic relative roots from 0 to 11*. \n",
    "\n",
    "This is translated to the R language as follows:\n",
    "\n",
    "( `0:11` is a sequence of integers)\n",
    "\n",
    "`for (i in 0:11) {\n",
    "    length(unique(dt[dt$relChr == i, 1]))\n",
    "}`"
   ]
  },
  {
   "cell_type": "code",
   "execution_count": 36,
   "metadata": {
    "slideshow": {
     "slide_type": "fragment"
    }
   },
   "outputs": [],
   "source": []
  },
  {
   "cell_type": "markdown",
   "metadata": {
    "slideshow": {
     "slide_type": "slide"
    }
   },
   "source": [
    "There is no output here because all song instances have been computed within the for-loop (internally). \n",
    "\n",
    "Use `print()` as instruction to return a distinct output for every iteration of i:\n",
    "\n",
    "`for (i in 0:11) {\n",
    "    print(length(unique(dt[dt$relChr == i, 1])))\n",
    "}`"
   ]
  },
  {
   "cell_type": "code",
   "execution_count": null,
   "metadata": {
    "slideshow": {
     "slide_type": "fragment"
    }
   },
   "outputs": [],
   "source": []
  },
  {
   "cell_type": "markdown",
   "metadata": {
    "slideshow": {
     "slide_type": "slide"
    }
   },
   "source": [
    "Here, we will assign the output to an object (I called it `song.inst`). This stores the output for later reuse:\n",
    "\n",
    "`for (i in 0:11) {\n",
    "    song.inst <- length(unique(dt[dt$relChr == i, 1]))\n",
    "}`"
   ]
  },
  {
   "cell_type": "code",
   "execution_count": null,
   "metadata": {
    "slideshow": {
     "slide_type": "fragment"
    }
   },
   "outputs": [],
   "source": []
  },
  {
   "cell_type": "markdown",
   "metadata": {
    "slideshow": {
     "slide_type": "slide"
    }
   },
   "source": [
    "Return the result:"
   ]
  },
  {
   "cell_type": "code",
   "execution_count": null,
   "metadata": {
    "slideshow": {
     "slide_type": "fragment"
    }
   },
   "outputs": [],
   "source": []
  },
  {
   "cell_type": "markdown",
   "metadata": {
    "slideshow": {
     "slide_type": "slide"
    }
   },
   "source": [
    "What happened?\n",
    "\n",
    "For every iteration of i over the sequence 0 to 11, object `song.inst` has been changed. For `i = 11`object `song.inst` has been overwritten for the last time, thus the resulting outcome of that loop is 7."
   ]
  },
  {
   "cell_type": "markdown",
   "metadata": {
    "slideshow": {
     "slide_type": "slide"
    }
   },
   "source": [
    "To create a resulating vector whose elements are the outcomes of each for-loop iteration, combine the result in a current iteration with the results of the preceded ones using `c()`:  \n",
    "`song.inst <- c(song.inst, length(unique(dt[dt$relChr == i, 1])))`.\n",
    "\n",
    "Note that before you start the for-loop, you need an (empty) vector `song.inst <- c()` in order to combine it with the outcome in the first iteration of the loop."
   ]
  },
  {
   "cell_type": "code",
   "execution_count": 40,
   "metadata": {
    "slideshow": {
     "slide_type": "fragment"
    }
   },
   "outputs": [
    {
     "name": "stdout",
     "output_type": "stream",
     "text": [
      " [1] 99  5 38 18 24 89  5 87 21 40 37  7\n"
     ]
    }
   ],
   "source": [
    "song.inst <- c()\n",
    "for (i in 0:11) {\n",
    "    song.inst <- c(song.inst,length(unique(dt[dt$relChr == i, 1])))\n",
    "}\n",
    "print(song.inst)"
   ]
  },
  {
   "cell_type": "markdown",
   "metadata": {
    "slideshow": {
     "slide_type": "slide"
    }
   },
   "source": [
    "This is the resulting vector of song instances. \n",
    "\n",
    "As a last step, use `cbind()` for columnar bindung of the three result-vectors:\n",
    "\n",
    "`distr_table <- cbind(instances, prop, song.inst)`"
   ]
  },
  {
   "cell_type": "code",
   "execution_count": 41,
   "metadata": {
    "slideshow": {
     "slide_type": "fragment"
    }
   },
   "outputs": [],
   "source": [
    "distr_table <- cbind(instances, prop, song.inst)"
   ]
  },
  {
   "cell_type": "markdown",
   "metadata": {
    "slideshow": {
     "slide_type": "slide"
    }
   },
   "source": [
    "and define the column names:"
   ]
  },
  {
   "cell_type": "code",
   "execution_count": 42,
   "metadata": {
    "slideshow": {
     "slide_type": "fragment"
    }
   },
   "outputs": [],
   "source": [
    "colnames(distr_table) <- c(\"Instances\", \"Proportion of total\", \"Song instances\")"
   ]
  },
  {
   "cell_type": "code",
   "execution_count": null,
   "metadata": {
    "slideshow": {
     "slide_type": "slide"
    }
   },
   "outputs": [],
   "source": [
    "print(distr_table)"
   ]
  },
  {
   "cell_type": "markdown",
   "metadata": {
    "slideshow": {
     "slide_type": "slide"
    }
   },
   "source": [
    "## Frequency distribution of pre- and post-tonics<a name=\"freqDist\">\n",
    "Until now, only the *overall destribution* of chromatic relative roots has been calculated. Let's now turn to chord progressions within the dataset. \n",
    "\n",
    "The first aim is to calculate the frequency of occurrence of pre- and post-tonic chords in terms of chromatic relative roots."
   ]
  },
  {
   "cell_type": "markdown",
   "metadata": {
    "slideshow": {
     "slide_type": "slide"
    }
   },
   "source": [
    "### Identification of pre- and post tonic chords in the dataset<a name=\"label\">\n",
    "\n",
    "This is an example of how to create labels based on criteria which have to be met. The criteria are: pre-tonic and post-tonic.\n",
    "\n",
    "Expand the dataframe with two columns called pre and post that will finally contain that information. In the first place, assign empty character strings to these new columns:\n",
    "\n",
    "`dt$pre <- \"\"\n",
    "dt$post <- \"\"`"
   ]
  },
  {
   "cell_type": "code",
   "execution_count": 26,
   "metadata": {
    "slideshow": {
     "slide_type": "fragment"
    }
   },
   "outputs": [],
   "source": []
  },
  {
   "cell_type": "markdown",
   "metadata": {
    "slideshow": {
     "slide_type": "slide"
    }
   },
   "source": [
    "Take a look at the header:"
   ]
  },
  {
   "cell_type": "code",
   "execution_count": 27,
   "metadata": {
    "slideshow": {
     "slide_type": "fragment"
    }
   },
   "outputs": [
    {
     "name": "stdout",
     "output_type": "stream",
     "text": [
      "     song start  end  RN relChr relDia tonic abs pre post\n",
      "1 1999_dt   7.0  7.5 I64      0      1     5   5         \n",
      "2 1999_dt   7.5  8.0 V11      7      5     5   0         \n",
      "3 1999_dt   8.0  8.5 I64      0      1     5   5         \n",
      "4 1999_dt   8.5  9.0 V11      7      5     5   0         \n",
      "5 1999_dt   9.0  9.5 I64      0      1     5   5         \n",
      "6 1999_dt   9.5 10.0 V11      7      5     5   0         \n"
     ]
    }
   ],
   "source": [
    "print(head(dt))"
   ]
  },
  {
   "cell_type": "markdown",
   "metadata": {
    "slideshow": {
     "slide_type": "slide"
    }
   },
   "source": [
    "#### Identification of post-tonics by for-loop and if-statement<a name=\"post\">\n",
    "\n",
    "For identification of post-tonic chords, one has first to identify the tonics.\n",
    "\n",
    "Within the corpus, tonics are indicated by:\n",
    "- Roman numeral labels `I` (major), `i` (minor) and inversions like `I64`\n",
    "- Diatonic relative root `1`: In `dt$relDia`, number one always and exclusively indicates the tonic, no matter whether it is actually minor, major, or an inversion.\n",
    "- Chromatic relative root `0`: In `dt$relChr`, number zero always and exclusively indicates the tonic, no matter whether it is actually minor or major.\n",
    "Here, we will take the chromatic relative root `0` as an indicator of tonics.\n",
    "\n",
    "`dt$relChr == 0` gives a logical vector which elements are TRUE if the condition \"equals zero\" is met. Compare:"
   ]
  },
  {
   "cell_type": "code",
   "execution_count": 28,
   "metadata": {
    "slideshow": {
     "slide_type": "fragment"
    }
   },
   "outputs": [
    {
     "name": "stdout",
     "output_type": "stream",
     "text": [
      "[1] 0 7 0 7 0 7\n",
      "[1]  TRUE FALSE  TRUE FALSE  TRUE FALSE\n"
     ]
    }
   ],
   "source": [
    "print(head(dt$relChr))      # Head of vector dt$relChr\n",
    "print(head(dt$relChr == 0)) # Head of the logical vector"
   ]
  },
  {
   "cell_type": "markdown",
   "metadata": {
    "slideshow": {
     "slide_type": "slide"
    }
   },
   "source": [
    "Take a look at the first row of the data frame. In the song \"1999\", a tonic occurs in the first half of measure 7, which is row 1. As such, a post-tonic occurs in row 2 (here, it's the dominant).  \n",
    "Thus, row 2 should be labeled as post-tonic:"
   ]
  },
  {
   "cell_type": "code",
   "execution_count": 29,
   "metadata": {
    "slideshow": {
     "slide_type": "fragment"
    }
   },
   "outputs": [
    {
     "name": "stdout",
     "output_type": "stream",
     "text": [
      "     song start end  RN relChr relDia tonic abs pre post\n",
      "1 1999_dt   7.0 7.5 I64      0      1     5   5         \n",
      "2 1999_dt   7.5 8.0 V11      7      5     5   0         \n"
     ]
    }
   ],
   "source": [
    "print(head(dt,2))"
   ]
  },
  {
   "cell_type": "markdown",
   "metadata": {
    "slideshow": {
     "slide_type": "slide"
    }
   },
   "source": [
    "Now take a variable that should index the row-numbers, let's call it `i`. \n",
    "\n",
    "In row 2, thus for `i=2`, we may add a label called \"postI\" in column dt$post:\n",
    "\n",
    "`dt$post[i] <- \"postI\"`\n",
    "\n",
    "because in the row before, the following condition is met:\n",
    "\n",
    "`dt$relChr[i-1] == 0`"
   ]
  },
  {
   "cell_type": "markdown",
   "metadata": {
    "slideshow": {
     "slide_type": "slide"
    }
   },
   "source": [
    "We can translate this to an if-statement\n",
    "\n",
    "**if** `dt$relChr[i-1] == 0`   \n",
    "**then** `dt$post[i] <- \"postI\"`\n",
    "   \n",
    "which is coded in R:\n",
    "\n",
    "`if (dt$relChr[i-1] == 0) {`  \n",
    "&nbsp;&nbsp;&nbsp;`dt$post[i] <- \"postI\"`  \n",
    "&nbsp;&nbsp;&nbsp;`}`"
   ]
  },
  {
   "cell_type": "markdown",
   "metadata": {
    "slideshow": {
     "slide_type": "slide"
    }
   },
   "source": [
    "We need to test the if-condition in all rows from row 2 to the last row. As such, the if-condition will be build into a for-loop which specifies the iteration of index i over that sequence of rows.\n",
    "\n",
    "**Try it**"
   ]
  },
  {
   "cell_type": "code",
   "execution_count": null,
   "metadata": {
    "slideshow": {
     "slide_type": "fragment"
    }
   },
   "outputs": [],
   "source": []
  },
  {
   "cell_type": "markdown",
   "metadata": {
    "slideshow": {
     "slide_type": "slide"
    }
   },
   "source": [
    "Now take a look at the header:"
   ]
  },
  {
   "cell_type": "code",
   "execution_count": null,
   "metadata": {
    "slideshow": {
     "slide_type": "fragment"
    }
   },
   "outputs": [],
   "source": [
    "print(head(dt))"
   ]
  },
  {
   "cell_type": "markdown",
   "metadata": {
    "slideshow": {
     "slide_type": "slide"
    }
   },
   "source": [
    "Let's also take a look to some other rows in the dataframe, say, at rows 342 to 347:"
   ]
  },
  {
   "cell_type": "code",
   "execution_count": null,
   "metadata": {
    "slideshow": {
     "slide_type": "fragment"
    }
   },
   "outputs": [],
   "source": []
  },
  {
   "cell_type": "markdown",
   "metadata": {
    "slideshow": {
     "slide_type": "fragment"
    }
   },
   "source": [
    "Row 343 gives information about the last chord of the song *1999*, which is the tonic.    \n",
    "Row 344 gives information about the first chord of the song *All apologies*.\n",
    "\n",
    "Our code did not consider this case: the first chord of the song *All apologies* has been classified as a post-tonic ... this is definitely wrong as the first chord of a song cannot be considered as a post tonic."
   ]
  },
  {
   "cell_type": "markdown",
   "metadata": {
    "slideshow": {
     "slide_type": "slide"
    }
   },
   "source": [
    "As such, we need a second condition which prevents first chords of a song to be erroneously labelled as post-tonic. Song name `dt$song[i-1]` must equal `dt$song[i]`.\n",
    "\n",
    "Only if both conditions `if ((dt$relChr[i-1] == 0) & (dt$song[i-1]==dt$song[i]))` are met, the chord in row `i` will be anotated as post-tonic."
   ]
  },
  {
   "cell_type": "code",
   "execution_count": 47,
   "metadata": {
    "slideshow": {
     "slide_type": "fragment"
    }
   },
   "outputs": [],
   "source": [
    "dt$post <- \"\"\n",
    "\n",
    "for (i in 2:nrow(dt)) {\n",
    "    if ((dt$relChr[i-1] == 0) & (dt$song[i-1]==dt$song[i]))  {\n",
    "        dt$post[i] <- \"postI\"\n",
    "    }\n",
    "}"
   ]
  },
  {
   "cell_type": "code",
   "execution_count": 48,
   "metadata": {
    "slideshow": {
     "slide_type": "slide"
    }
   },
   "outputs": [
    {
     "name": "stdout",
     "output_type": "stream",
     "text": [
      "                song  start   end   RN relChr relDia tonic abs  post\n",
      "342          1999_dt 182.25 182.5 bVII     10      7     5   3 postI\n",
      "343          1999_dt 182.50 183.0    I      0      1     5   5      \n",
      "344 all_apologies_dt   0.00  24.0    I      0      1     1   1      \n",
      "345 all_apologies_dt  24.00  30.0   IV      5      4     1   6 postI\n",
      "346 all_apologies_dt  30.00  34.0    V      7      5     1   8      \n",
      "347 all_apologies_dt  34.00  50.0    I      0      1     1   1      \n"
     ]
    }
   ],
   "source": [
    "print(dt[342:347,])"
   ]
  },
  {
   "cell_type": "markdown",
   "metadata": {
    "slideshow": {
     "slide_type": "fragment"
    }
   },
   "source": [
    "It worked!"
   ]
  },
  {
   "cell_type": "markdown",
   "metadata": {
    "slideshow": {
     "slide_type": "slide"
    }
   },
   "source": [
    "Finally, create a frequency distribution table of posttonics:   \n",
    "`table()`:"
   ]
  },
  {
   "cell_type": "code",
   "execution_count": null,
   "metadata": {
    "slideshow": {
     "slide_type": "fragment"
    }
   },
   "outputs": [],
   "source": [
    "table(dt[dt$post == \"postI\",5])"
   ]
  },
  {
   "cell_type": "markdown",
   "metadata": {
    "slideshow": {
     "slide_type": "slide"
    }
   },
   "source": [
    "And a barplot of that frequencies:   \n",
    "`barplot()`"
   ]
  },
  {
   "cell_type": "code",
   "execution_count": 11,
   "metadata": {
    "slideshow": {
     "slide_type": "fragment"
    }
   },
   "outputs": [
    {
     "data": {
      "image/png": "[encoded data removed]",
      "text/plain": [
       "Plot with title “Post-tonics”"
      ]
     },
     "metadata": {},
     "output_type": "display_data"
    }
   ],
   "source": [
    "barplot( table(dt[dt$post == \"postI\",5]) ,          \n",
    "        main=\"Post-tonics\",                                      # specify the main title as indicated by a character string\n",
    "        ylab=\"frequency\", xlab=\"chromatic relative root\",        # make the plot literate by specification of y and x labels\n",
    "        ylim=c(0,1200),  las=1)                                  # specification of y-axis limits and the orientation of axis labels\n"
   ]
  },
  {
   "cell_type": "markdown",
   "metadata": {
    "slideshow": {
     "slide_type": "slide"
    }
   },
   "source": [
    "#### Identification of pre-tonics by for-loop and if-statement<a name=\"pre\">\n",
    "\n",
    "The coding strategy to identify and label the pre-tonics is quite similar.\n",
    "    \n",
    "**Try it!**"
   ]
  },
  {
   "cell_type": "code",
   "execution_count": null,
   "metadata": {
    "slideshow": {
     "slide_type": "fragment"
    }
   },
   "outputs": [],
   "source": []
  },
  {
   "cell_type": "markdown",
   "metadata": {
    "slideshow": {
     "slide_type": "slide"
    }
   },
   "source": [
    "## Chord transition table<a name=\"chtrans\">"
   ]
  },
  {
   "cell_type": "markdown",
   "metadata": {
    "slideshow": {
     "slide_type": "fragment"
    }
   },
   "source": [
    "The combination of for-loop and if-condition to label data provides an intuitive way to deal with chord motions in the dataset. But there are some disadvantages. "
   ]
  },
  {
   "cell_type": "markdown",
   "metadata": {
    "slideshow": {
     "slide_type": "slide"
    }
   },
   "source": [
    "Take a look at this table (cq. 3 in DeClercq + Temperley 2011, p.61). This should become a frequency distribution table of all combinations of antecedent and consequent chords in the corpus.   \n",
    "Rows names indicate antecedent chords, column names indicate consequent chords:\n",
    "\n",
    "| .  | 0 | 1 | 2 | 3 | ... |\n",
    "|---|---|---|---|---|-----|\n",
    "|**0**|    \n",
    "|**1**|\n",
    "|**2**|\n",
    "|**3**|\n",
    "|**...**|"
   ]
  },
  {
   "cell_type": "markdown",
   "metadata": {
    "slideshow": {
     "slide_type": "fragment"
    }
   },
   "source": [
    "If we were to label all possible combinations of antecedent and consequent chords, this would take a lot of time for coding.   \n",
    "Also, it would take a lot of processing ressources to do so. For every single iteration of i, the if-condition has to be checked and the vectors `dt$pre` or `dt$post` have to be updated. In each repetition, memory has to be re-allocated."
   ]
  },
  {
   "cell_type": "markdown",
   "metadata": {
    "slideshow": {
     "slide_type": "slide"
    }
   },
   "source": [
    "### Vectorisation<a name=\"vectorisation\">\n",
    "\n",
    "**Vectorisation** provides a way to save coding and processing ressources and time. Read [Noam Ross: Vectorization in R: Why?](http://www.noamross.net/blog/2014/4/16/vectorization-in-r--why.html) to catch the idea of vectorisation in detail."
   ]
  },
  {
   "cell_type": "markdown",
   "metadata": {
    "slideshow": {
     "slide_type": "slide"
    }
   },
   "source": [
    "Here is an example. Say we have a set of 50000 randomly generated integers between 1 and 50000"
   ]
  },
  {
   "cell_type": "code",
   "execution_count": 49,
   "metadata": {
    "slideshow": {
     "slide_type": "fragment"
    }
   },
   "outputs": [
    {
     "data": {
      "text/html": [
       "50000"
      ],
      "text/latex": [
       "50000"
      ],
      "text/markdown": [
       "50000"
      ],
      "text/plain": [
       "[1] 50000"
      ]
     },
     "metadata": {},
     "output_type": "display_data"
    },
    {
     "name": "stdout",
     "output_type": "stream",
     "text": [
      "[1]  8280 13237 38968 10204 16510 40982\n"
     ]
    }
   ],
   "source": [
    "a <- sample(1:50000, size=50000, replace=TRUE)\n",
    "length(a)      # is 50000\n",
    "print(head(a)) # first six elements"
   ]
  },
  {
   "cell_type": "markdown",
   "metadata": {
    "slideshow": {
     "slide_type": "slide"
    }
   },
   "source": [
    "and we want to create a subset of all odd numbers.\n",
    "\n",
    "Identification of odd numbers:"
   ]
  },
  {
   "cell_type": "code",
   "execution_count": 50,
   "metadata": {
    "slideshow": {
     "slide_type": "fragment"
    }
   },
   "outputs": [
    {
     "data": {
      "text/html": [
       "10204"
      ],
      "text/latex": [
       "10204"
      ],
      "text/markdown": [
       "10204"
      ],
      "text/plain": [
       "[1] 10204"
      ]
     },
     "metadata": {},
     "output_type": "display_data"
    },
    {
     "data": {
      "text/html": [
       "FALSE"
      ],
      "text/latex": [
       "FALSE"
      ],
      "text/markdown": [
       "FALSE"
      ],
      "text/plain": [
       "[1] FALSE"
      ]
     },
     "metadata": {},
     "output_type": "display_data"
    }
   ],
   "source": [
    "a[4]\n",
    "a[4] %% 2 != 0"
   ]
  },
  {
   "cell_type": "markdown",
   "metadata": {
    "slideshow": {
     "slide_type": "slide"
    }
   },
   "source": [
    "For identifying all odd numbers in the data, a strategy similar to our labelling of post- and pre-tonics above would be this:"
   ]
  },
  {
   "cell_type": "code",
   "execution_count": 115,
   "metadata": {
    "slideshow": {
     "slide_type": "fragment"
    }
   },
   "outputs": [],
   "source": [
    "odds1 <- c()\n",
    "for (i in 1:length(a)) {\n",
    "    if(a[i] %% 2 != 0) {       # for all odd numbers, the result of modulo division a[i] %% 2, the division remainder, is not 0\n",
    "        odds1 <- c(odds1,a[i]) # element by element, vector odds1 is created\n",
    "    }\n",
    "}"
   ]
  },
  {
   "cell_type": "markdown",
   "metadata": {
    "slideshow": {
     "slide_type": "slide"
    }
   },
   "source": [
    "Instead of iterating the check-update-process for 50000 times, this vectorised code does the same in two ..."
   ]
  },
  {
   "cell_type": "code",
   "execution_count": 53,
   "metadata": {
    "slideshow": {
     "slide_type": "slide"
    }
   },
   "outputs": [],
   "source": [
    "odds.logical <- a %% 2 != 0    "
   ]
  },
  {
   "cell_type": "markdown",
   "metadata": {
    "slideshow": {
     "slide_type": "fragment"
    }
   },
   "source": [
    "`odds.logical` is a logical vector, `TRUE` for division remainders unequal 0"
   ]
  },
  {
   "cell_type": "code",
   "execution_count": 54,
   "metadata": {
    "slideshow": {
     "slide_type": "fragment"
    }
   },
   "outputs": [],
   "source": [
    "odds2 <- a[odds.logical]"
   ]
  },
  {
   "cell_type": "markdown",
   "metadata": {
    "slideshow": {
     "slide_type": "fragment"
    }
   },
   "source": [
    "assigns all elements of vector a for which the related logical vector element is TRUE"
   ]
  },
  {
   "cell_type": "markdown",
   "metadata": {
    "slideshow": {
     "slide_type": "slide"
    }
   },
   "source": [
    "Here's the same one step:"
   ]
  },
  {
   "cell_type": "code",
   "execution_count": null,
   "metadata": {
    "slideshow": {
     "slide_type": "fragment"
    }
   },
   "outputs": [],
   "source": [
    "odds2 <- a[a %% 2 != 0]  "
   ]
  },
  {
   "cell_type": "markdown",
   "metadata": {
    "slideshow": {
     "slide_type": "slide"
    }
   },
   "source": [
    "Did you notice the difference in processing time? R performs these operations on whole vectors (here with length = 50000), not for every single vector element."
   ]
  },
  {
   "cell_type": "markdown",
   "metadata": {
    "slideshow": {
     "slide_type": "slide"
    }
   },
   "source": [
    "The strategy of vectorisation, combined with a for-loop of only 12 iterations, will finally be used here to create a matrix of all possible combinations of ante- and consequent chords."
   ]
  },
  {
   "cell_type": "markdown",
   "metadata": {
    "slideshow": {
     "slide_type": "slide"
    }
   },
   "source": [
    "### Frequency distribution of all post-tonics<a name=\"freqvec\">\n",
    "\n",
    "To understand this process, first create a frequency distribution table of post-tonics, i.e. the consequent chords of the tonic I, in terms of chromatic relative roots. The result must be the same as we have achieved above by labelling post-tonics."
   ]
  },
  {
   "cell_type": "markdown",
   "metadata": {
    "slideshow": {
     "slide_type": "slide"
    }
   },
   "source": [
    "We will start with the `which()`-function, asking: \"Which indices are TRUE for the condition `dt$relChr == 0`?\", providing a vector of **positions** of tonics in `dt$relChr`\n",
    "\n",
    "`which(dt$relChr == 0)`"
   ]
  },
  {
   "cell_type": "code",
   "execution_count": 57,
   "metadata": {
    "slideshow": {
     "slide_type": "fragment"
    }
   },
   "outputs": [
    {
     "name": "stdout",
     "output_type": "stream",
     "text": [
      "[1]  1  3  5  7  9 11\n"
     ]
    }
   ],
   "source": [
    "print(head(which(dt$relChr == 0)))"
   ]
  },
  {
   "cell_type": "markdown",
   "metadata": {
    "slideshow": {
     "slide_type": "slide"
    }
   },
   "source": [
    "Take this vector to specify the rows in `dt` that provide information on *post*-tonic chords:\n",
    "\n",
    "`dt[which(dt$relChr == 0)+1,]`"
   ]
  },
  {
   "cell_type": "code",
   "execution_count": 58,
   "metadata": {
    "slideshow": {
     "slide_type": "fragment"
    }
   },
   "outputs": [
    {
     "name": "stdout",
     "output_type": "stream",
     "text": [
      "      song start end  RN relChr relDia tonic abs  post\n",
      "2  1999_dt   7.5   8 V11      7      5     5   0 postI\n",
      "4  1999_dt   8.5   9 V11      7      5     5   0 postI\n",
      "6  1999_dt   9.5  10 V11      7      5     5   0 postI\n",
      "8  1999_dt  10.5  11 V11      7      5     5   0 postI\n",
      "10 1999_dt  11.5  12 V11      7      5     5   0 postI\n",
      "12 1999_dt  12.5  13 V11      7      5     5   0 postI\n"
     ]
    }
   ],
   "source": [
    "print(head(dt[which(dt$relChr == 0)+1,]))"
   ]
  },
  {
   "cell_type": "markdown",
   "metadata": {
    "slideshow": {
     "slide_type": "fragment"
    }
   },
   "source": [
    "The 5th column provides the chomatic relative roots of these post-tonics:\n",
    "\n",
    "`dt[which(dt$relChr == 0)+1,5]`"
   ]
  },
  {
   "cell_type": "code",
   "execution_count": 65,
   "metadata": {
    "slideshow": {
     "slide_type": "slide"
    }
   },
   "outputs": [
    {
     "name": "stdout",
     "output_type": "stream",
     "text": [
      "[1] 7 7 7 7 7 7\n"
     ]
    }
   ],
   "source": [
    "cons_all <- dt[which(dt$relChr == 0)+1,5]\n",
    "print(head(cons_all))"
   ]
  },
  {
   "cell_type": "markdown",
   "metadata": {
    "slideshow": {
     "slide_type": "fragment"
    }
   },
   "source": [
    "This is a numerical vector of all post-tonic chromatic relative roots "
   ]
  },
  {
   "cell_type": "markdown",
   "metadata": {
    "slideshow": {
     "slide_type": "slide"
    }
   },
   "source": [
    "Remember that we need a second condition which prevents first chords of a new song to be erroneously labelled as post-tonic of previous songs ending with a tonic."
   ]
  },
  {
   "cell_type": "markdown",
   "metadata": {
    "slideshow": {
     "slide_type": "subslide"
    }
   },
   "source": [
    "The song names (first column) in rows that represent the tonics (`dt[which(dt$relChr == 0),1]`) must equal the song names of consequent rows that represent the post-tonics `dt[which(dt$relChr == 0)+1,]`:\n",
    "\n",
    "`dt[which(dt$relChr == 0),1] == dt[which(dt$relChr == 0)+1,1]`"
   ]
  },
  {
   "cell_type": "code",
   "execution_count": 66,
   "metadata": {
    "slideshow": {
     "slide_type": "fragment"
    }
   },
   "outputs": [
    {
     "name": "stdout",
     "output_type": "stream",
     "text": [
      "[1] TRUE TRUE TRUE TRUE TRUE TRUE\n"
     ]
    }
   ],
   "source": [
    "cons_same <- dt[which(dt$relChr == 0),1] == dt[which(dt$relChr == 0)+1,1]\n",
    "print(head(cons_same))"
   ]
  },
  {
   "cell_type": "markdown",
   "metadata": {
    "slideshow": {
     "slide_type": "fragment"
    }
   },
   "source": [
    "This is a logical vector which is FALSE for consequent chords of tonics that do not belong to the same song. \n",
    "\n",
    "To show that this is the case, take a look at rows 339 to 352 of the dataframe dt:"
   ]
  },
  {
   "cell_type": "code",
   "execution_count": null,
   "metadata": {
    "slideshow": {
     "slide_type": "fragment"
    }
   },
   "outputs": [],
   "source": []
  },
  {
   "cell_type": "markdown",
   "metadata": {
    "slideshow": {
     "slide_type": "fragment"
    }
   },
   "source": [
    "In column `dt$relChr`, chromatic relative roots following 0 (the tonic) are 10 (same song: TRUE), 10 (same song: TRUE), 0 (same song: FALSE), 5 (same song: TRUE), 5 (same song: TRUE), 7 (same song: FALSE). This is exactly the information of vectors `cons_all` and `cons_same`:"
   ]
  },
  {
   "cell_type": "code",
   "execution_count": 68,
   "metadata": {
    "slideshow": {
     "slide_type": "subslide"
    }
   },
   "outputs": [
    {
     "name": "stdout",
     "output_type": "stream",
     "text": [
      "[1] 10 10  0  5  5  7\n",
      "[1]  TRUE  TRUE FALSE  TRUE  TRUE FALSE\n"
     ]
    }
   ],
   "source": [
    "print(cons_all[165:170])\n",
    "print(cons_same[165:170])"
   ]
  },
  {
   "cell_type": "markdown",
   "metadata": {
    "slideshow": {
     "slide_type": "slide"
    }
   },
   "source": [
    "Now, take `cons_same` as position index vector of `cons_all` in order to exclude all consequent chromatic relative roots of tonic that do not belong to the same song:"
   ]
  },
  {
   "cell_type": "code",
   "execution_count": 69,
   "metadata": {
    "slideshow": {
     "slide_type": "fragment"
    }
   },
   "outputs": [],
   "source": [
    "cons <- cons_all[cons_same]"
   ]
  },
  {
   "cell_type": "markdown",
   "metadata": {
    "slideshow": {
     "slide_type": "slide"
    }
   },
   "source": [
    "We are almost there. Our labelling of post-tonics by for-loop and if-statement provided a total of 2992 elements:"
   ]
  },
  {
   "cell_type": "code",
   "execution_count": null,
   "metadata": {
    "slideshow": {
     "slide_type": "fragment"
    }
   },
   "outputs": [],
   "source": [
    "length(dt[dt$post == \"postI\",5])"
   ]
  },
  {
   "cell_type": "markdown",
   "metadata": {
    "slideshow": {
     "slide_type": "fragment"
    }
   },
   "source": [
    "Instead, vectorisation provided a vector of post-tonics with ..."
   ]
  },
  {
   "cell_type": "code",
   "execution_count": null,
   "metadata": {
    "slideshow": {
     "slide_type": "fragment"
    }
   },
   "outputs": [],
   "source": [
    "length(cons)"
   ]
  },
  {
   "cell_type": "markdown",
   "metadata": {
    "slideshow": {
     "slide_type": "slide"
    }
   },
   "source": [
    "We created an `NA` in the last position of that vector:"
   ]
  },
  {
   "cell_type": "code",
   "execution_count": null,
   "metadata": {
    "slideshow": {
     "slide_type": "fragment"
    }
   },
   "outputs": [],
   "source": [
    "print(tail(cons))"
   ]
  },
  {
   "cell_type": "markdown",
   "metadata": {
    "slideshow": {
     "slide_type": "slide"
    }
   },
   "source": [
    "Take again a look at the data frame, here are the last rows:"
   ]
  },
  {
   "cell_type": "code",
   "execution_count": null,
   "metadata": {
    "slideshow": {
     "slide_type": "fragment"
    }
   },
   "outputs": [],
   "source": [
    "print(tail(dt))"
   ]
  },
  {
   "cell_type": "markdown",
   "metadata": {
    "slideshow": {
     "slide_type": "slide"
    }
   },
   "source": [
    "By indentification of post-tonics &mdash; `dt[which(dt$relChr == 0)+1,5]` &mdash; a post-tonic would also be expected in row 9301 which is not available (NA). \n",
    "\n",
    "As a last step, exclude that `NA` from vector `cons` by:"
   ]
  },
  {
   "cell_type": "code",
   "execution_count": 73,
   "metadata": {
    "slideshow": {
     "slide_type": "fragment"
    }
   },
   "outputs": [],
   "source": [
    "cons <- cons[!is.na(cons)]"
   ]
  },
  {
   "cell_type": "markdown",
   "metadata": {
    "slideshow": {
     "slide_type": "fragment"
    }
   },
   "source": [
    "`!is.na(cons)` is `TRUE` for all elements of `cons` that are not `NA`"
   ]
  },
  {
   "cell_type": "code",
   "execution_count": null,
   "metadata": {
    "slideshow": {
     "slide_type": "slide"
    }
   },
   "outputs": [],
   "source": [
    "print(tail(cons))"
   ]
  },
  {
   "cell_type": "markdown",
   "metadata": {
    "slideshow": {
     "slide_type": "slide"
    }
   },
   "source": [
    "This may seem a long way to achieve the goal, but finally only a few steps were needed to create a vector of all consequent chromatic relative roots of tonics:\n",
    "\n",
    "`cons_all   <- dt[which(dt$relChr == 0)+1,5]\n",
    "cons_same  <- dt[which(dt$relChr == 0),1] == dt[which(dt$relChr == 0)+1,1]\n",
    "cons       <- cons_all[cons_same]\n",
    "cons       <- cons[!is.na(cons)]`"
   ]
  },
  {
   "cell_type": "code",
   "execution_count": 76,
   "metadata": {
    "slideshow": {
     "slide_type": "fragment"
    }
   },
   "outputs": [],
   "source": [
    "cons_all   <- dt[which(dt$relChr == 0)+1,5]\n",
    "cons_same  <- dt[which(dt$relChr == 0),1] == dt[which(dt$relChr == 0)+1,1]\n",
    "cons       <- cons_all[cons_same]\n",
    "cons       <- cons[!is.na(cons)]"
   ]
  },
  {
   "cell_type": "markdown",
   "metadata": {
    "slideshow": {
     "slide_type": "slide"
    }
   },
   "source": [
    "Here is the frequency distribution table:"
   ]
  },
  {
   "cell_type": "code",
   "execution_count": 77,
   "metadata": {
    "slideshow": {
     "slide_type": "fragment"
    }
   },
   "outputs": [
    {
     "data": {
      "text/plain": [
       "cons\n",
       "   0    1    2    3    4    5    6    7    8    9   10   11 \n",
       "  14   33  150   89   42 1036    4  682   98  303  526   15 "
      ]
     },
     "metadata": {},
     "output_type": "display_data"
    }
   ],
   "source": [
    "table(cons)"
   ]
  },
  {
   "cell_type": "markdown",
   "metadata": {
    "slideshow": {
     "slide_type": "slide"
    }
   },
   "source": [
    "If we did the same for `dt$relChr == 1`, this would be the resulting frequency distribution:"
   ]
  },
  {
   "cell_type": "code",
   "execution_count": 117,
   "metadata": {
    "slideshow": {
     "slide_type": "fragment"
    }
   },
   "outputs": [],
   "source": [
    "cons_all   <- dt[which(dt$relChr == 1)+1,5]\n",
    "cons_same  <- dt[which(dt$relChr == 1),1] == dt[which(dt$relChr == 1)+1,1]\n",
    "cons       <- cons_all[cons_same]\n",
    "cons       <- cons[!is.na(cons)]"
   ]
  },
  {
   "cell_type": "code",
   "execution_count": 79,
   "metadata": {
    "slideshow": {
     "slide_type": "slide"
    }
   },
   "outputs": [
    {
     "data": {
      "text/plain": [
       "cons\n",
       " 0 11 \n",
       "38 14 "
      ]
     },
     "metadata": {},
     "output_type": "display_data"
    }
   ],
   "source": [
    "table(cons)"
   ]
  },
  {
   "cell_type": "markdown",
   "metadata": {
    "slideshow": {
     "slide_type": "slide"
    }
   },
   "source": [
    "The term `table(factor(cons,lev=0:11))` guarantees that a frequencies = 0 are included into the table."
   ]
  },
  {
   "cell_type": "code",
   "execution_count": 80,
   "metadata": {
    "slideshow": {
     "slide_type": "fragment"
    }
   },
   "outputs": [
    {
     "data": {
      "text/plain": [
       "\n",
       " 0  1  2  3  4  5  6  7  8  9 10 11 \n",
       "38  0  0  0  0  0  0  0  0  0  0 14 "
      ]
     },
     "metadata": {},
     "output_type": "display_data"
    }
   ],
   "source": [
    "table(factor(cons,lev=0:11))"
   ]
  },
  {
   "cell_type": "markdown",
   "metadata": {
    "slideshow": {
     "slide_type": "slide"
    }
   },
   "source": [
    "### Frequencies of chord transitions in the whole corpus<a name=\"whole\">\n",
    "\n",
    "What has been done above can be transferred to a for-loop in order to achieve a transition frequency distribution table called `transTable` which is structured like:\n",
    "\n",
    "\n",
    "| .  | 0 | 1 | 2 | 3 | ... |\n",
    "|---|---|---|---|---|-----|\n",
    "|**0**|    \n",
    "|**1**|\n",
    "|**2**|\n",
    "|**3**|\n",
    "|**...**|\n",
    "\n",
    "How can we achieve this?  \n",
    "Remeber that we already coded the first two rows separately."
   ]
  },
  {
   "cell_type": "markdown",
   "metadata": {
    "slideshow": {
     "slide_type": "fragment"
    }
   },
   "source": []
  },
  {
   "cell_type": "code",
   "execution_count": null,
   "metadata": {
    "slideshow": {
     "slide_type": "slide"
    }
   },
   "outputs": [],
   "source": []
  },
  {
   "cell_type": "markdown",
   "metadata": {
    "slideshow": {
     "slide_type": "slide"
    }
   },
   "source": [
    "Finally, specify the row-names of that transition table:   \n",
    "`rownames(transTable) <- 0:11`"
   ]
  },
  {
   "cell_type": "markdown",
   "metadata": {
    "slideshow": {
     "slide_type": "slide"
    }
   },
   "source": [
    "### Visualisation of the chord transition table by mosaic plot<a name=\"mosaic\">\n",
    "\n",
    "The mosaic plot is suitable for visualisation of relative frequencies of data from two or more qualitative variables. The proportions of areas within the plot correspond to relative frequencies of values."
   ]
  },
  {
   "cell_type": "markdown",
   "metadata": {
    "slideshow": {
     "slide_type": "slide"
    }
   },
   "source": [
    "To achieve a plot that takes the same orientation of rows and columns in matrix `transTable`, you have to transpose the transition table (which is a matrix) using `t()`. This is due to the function's settings."
   ]
  },
  {
   "cell_type": "markdown",
   "metadata": {
    "slideshow": {
     "slide_type": "fragment"
    }
   },
   "source": [
    "    \n",
    "Matrix\n",
    "\n",
    "$M = \\begin{bmatrix}1 & 4 \\\\ 2 & 5 \\\\ 3 & 6 \\end{bmatrix}$\n",
    "\n",
    "can be transformed by exchanging rows with columns:\n",
    "\n",
    "$M^T = \\begin{bmatrix}1 & 2 & 3 \\\\ 4 & 5 & 6 \\end{bmatrix}$"
   ]
  },
  {
   "cell_type": "markdown",
   "metadata": {
    "slideshow": {
     "slide_type": "slide"
    }
   },
   "source": [
    "Here is the mosaic plot of `transTable`:"
   ]
  },
  {
   "cell_type": "code",
   "execution_count": null,
   "metadata": {
    "slideshow": {
     "slide_type": "fragment"
    }
   },
   "outputs": [],
   "source": [
    "mosaicplot(t(transTable))"
   ]
  },
  {
   "cell_type": "markdown",
   "metadata": {
    "slideshow": {
     "slide_type": "slide"
    }
   },
   "source": [
    "And here is an advanced mosaic plot of `transTable`: After generating and defining some graphical options of the plot, text has been added fostering literacy of that plot. The plot roughly demonstrated differences frequencies of occurence of specific chord movements in relation to others, but also loses information about absolute or relative frequencies of occurence. It could be argued that such information should be added at least to some areas within the plot that should be highlighted."
   ]
  },
  {
   "cell_type": "code",
   "execution_count": null,
   "metadata": {
    "slideshow": {
     "slide_type": "slide"
    }
   },
   "outputs": [],
   "source": [
    "mosaicplot(t(transTable),         # argument x, here the transposed matrix transTable\n",
    "           las=1, cex.axis=0.75,  # orientation and relative size of axis labels\n",
    "           col=c(\"grey1\",\"grey9\",\"grey17\",\"grey25\",\"grey33\",\"grey41\",\"grey49\",\"grey57\",\n",
    "                 \"grey65\",\"grey73\",\"grey81\",\"grey89\"), # colors for each row of the matrix\n",
    "           main=\"\",               # here: empty character string as main-title\n",
    "           sub=\"Mosaic Plot of Chord Transitions in the RS 5x20 Corpus (dt)\") # instead, title below the plot\n",
    "\n",
    "#<----- By now the mosaicplot has been created. What follows is adding text to that plot -------->#\n",
    "\n",
    "mtext(\"consequent chromatic relative root\", side=3)       # mtext() is used instead of xlab to add text above the plot, side=3\n",
    "mtext(\"antecedent chromatic relative root\", side=2)       # for consistency, mtext() is also used instead of ylab\n",
    "\n",
    "text(2/12,0.66,\"IV-I\")    # text() places some text at a specified position (x,y) within the plot;\n",
    "text(2/12,0.38,\"V-I\")   \n",
    "text(2/12,0.058,\"bVII-I\")\n",
    "text(0.525,0.76,\"I-IV\",col=\"white\")\n",
    "text(0.525,0.3,\"V-IV\")\n",
    "text(0.7,0.76,\"I-V\",col=\"white\")\n",
    "text(0.7,0.34,\"IV-V\")\n",
    "text(0.933,0.76,\"I-\",col=\"white\")\n",
    "text(0.933,0.72,\"bVII\",col=\"white\")"
   ]
  },
  {
   "cell_type": "markdown",
   "metadata": {
    "slideshow": {
     "slide_type": "slide"
    }
   },
   "source": [
    "**Thank you for your attention!**"
   ]
  }
 ],
 "metadata": {
  "celltoolbar": "Slideshow",
  "kernelspec": {
   "display_name": "R",
   "language": "R",
   "name": "ir"
  },
  "language_info": {
   "codemirror_mode": "r",
   "file_extension": ".r",
   "mimetype": "text/x-r-source",
   "name": "R",
   "pygments_lexer": "r",
   "version": "3.5.2"
  }
 },
 "nbformat": 4,
 "nbformat_minor": 2
}
