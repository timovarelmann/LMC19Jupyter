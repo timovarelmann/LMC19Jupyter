{
 "cells": [
  {
   "cell_type": "code",
   "execution_count": 1,
   "metadata": {
    "slideshow": {
     "slide_type": "skip"
    }
   },
   "outputs": [],
   "source": [
    "from IPython.display import Image, YouTubeVideo\n",
    "import numpy as np\n",
    "# some extra little changes"
   ]
  },
  {
   "cell_type": "markdown",
   "metadata": {
    "slideshow": {
     "slide_type": "slide"
    }
   },
   "source": [
    "### A Brief Introduction to Collaboration via GitHub"
   ]
  },
  {
   "cell_type": "markdown",
   "metadata": {},
   "source": [
    "![this is an image: source: https://images.vogel.de/vogelonline/bdb/1286800/1286845/41.jpg](https://images.vogel.de/vogelonline/bdb/1286800/1286845/41.jpg)"
   ]
  },
  {
   "cell_type": "markdown",
   "metadata": {
    "slideshow": {
     "slide_type": "slide"
    }
   },
   "source": [
    "**What is GitHub?**"
   ]
  },
  {
   "cell_type": "markdown",
   "metadata": {
    "slideshow": {
     "slide_type": "fragment"
    }
   },
   "source": [
    "GitHub is an online server for hosting remote projects (repositories, or repos) using the GIT version control software.<br>\n",
    "In fact, with GitHub, we will have an online repository that all collaborators can work on within local clones/copies of that repo. This diagram might be helpful:"
   ]
  },
  {
   "cell_type": "markdown",
   "metadata": {},
   "source": [
    "![image source:https://docs.microsoft.com/en-us/azure/devops/learn/_img/git_repositories.png](https://docs.microsoft.com/en-us/azure/devops/learn/_img/git_repositories.png)"
   ]
  },
  {
   "cell_type": "markdown",
   "metadata": {
    "slideshow": {
     "slide_type": "slide"
    }
   },
   "source": [
    "There are a few steps towards a successful collaboration on GitHub :). However, the extra effort of using the command line for configuring and working within has an obvious advantage when working with the Jupyterlab interface. Also, the command line interface is more flexible and less of a hassle to integrate with local (or, as in our case, *remotely* local) clones of online repositories."
   ]
  },
  {
   "cell_type": "markdown",
   "metadata": {
    "slideshow": {
     "slide_type": "slide"
    }
   },
   "source": [
    "Set up a GitHub account! www.github.com"
   ]
  },
  {
   "cell_type": "markdown",
   "metadata": {
    "slideshow": {
     "slide_type": "fragment"
    }
   },
   "source": [
    "Email me to be added to our repository as a collaborator, including your user name."
   ]
  },
  {
   "cell_type": "markdown",
   "metadata": {
    "slideshow": {
     "slide_type": "fragment"
    }
   },
   "source": [
    "Ssh into our virtual machine from within the UoC network / via a VPN via your terminal application.<br>\n",
    "<br>`ssh username@jhmuwi.uni-koeln.de`<br><br>\n",
    "The system will then ask for your Unix password that you also use to login to our hub.\n",
    "<br>\n",
    "*Alternatively, You can launch a new terminal from within the Jupyterlab launcher.*"
   ]
  },
  {
   "cell_type": "markdown",
   "metadata": {
    "slideshow": {
     "slide_type": "fragment"
    }
   },
   "source": [
    "You will be in your home folder which happens to be the same folder you see once you sign into our Jupyterhub."
   ]
  },
  {
   "cell_type": "markdown",
   "metadata": {
    "slideshow": {
     "slide_type": "slide"
    }
   },
   "source": [
    "Create a folder for our repository to be stored in and change your working directory to that folder: \n",
    "<br><br>\n",
    "`mkdir foldername`<br>\n",
    "`cd foldername`"
   ]
  },
  {
   "cell_type": "markdown",
   "metadata": {
    "slideshow": {
     "slide_type": "fragment"
    }
   },
   "source": [
    "Clone into our repository, which will download the current state of our repository: <br>\n",
    "`git clone https://github.com/timovarelmann/LMC19Jupyter`"
   ]
  },
  {
   "cell_type": "markdown",
   "metadata": {
    "slideshow": {
     "slide_type": "fragment"
    }
   },
   "source": [
    "cd into the repository’s directory: <br>\n",
    "`cd LMC19Jupyter`"
   ]
  },
  {
   "cell_type": "markdown",
   "metadata": {
    "slideshow": {
     "slide_type": "slide"
    }
   },
   "source": [
    "Set up your user details for GIT . Please use the user name /email you set up with GitHub instead of “YOURUSERNAME” and “YOUREMAIL” below.<br>\n",
    "\n",
    "`git config --local user.name \"YOURUSERNAME\"`<br>\n",
    "`git config --local user.email \"YOUREMAIL\"`<br>\n",
    "\n",
    "For windows users: your \"@\" symbol can be entered in terminal by hitting \"Alt-Shift-2\" (English keyboard)\n"
   ]
  },
  {
   "cell_type": "markdown",
   "metadata": {
    "slideshow": {
     "slide_type": "slide"
    }
   },
   "source": [
    "Within the repository folder, please create a text file to test further connectivity:<br>\n",
    "`vim YOURUSERNAME.txt`\n",
    "<br><br>\n",
    "This will open up the powerful VIM text editor. Once in the text editor, you can hit “a” to enter INSERT-Mode and then type some text. Once you are done, hit “ESC” once to exit INSERT-Mode. You can save your file by typing “:wq” (write-quit) and hitting “ENTER”."
   ]
  },
  {
   "cell_type": "markdown",
   "metadata": {
    "slideshow": {
     "slide_type": "slide"
    }
   },
   "source": [
    "You can now type `git status` in the terminal, which will tell you that there is a new file called “YOURUSERNAME”.txt that has not yet been committed to GitHub."
   ]
  },
  {
   "cell_type": "markdown",
   "metadata": {
    "slideshow": {
     "slide_type": "fragment"
    }
   },
   "source": [
    "Add the newly created file to the list of things to be committed to GitHub (aka. “Stage” the file):<br>\n",
    "`git add \"YOURUSERNAME\".txt`"
   ]
  },
  {
   "cell_type": "markdown",
   "metadata": {
    "slideshow": {
     "slide_type": "fragment"
    }
   },
   "source": [
    "Inform GitHub that you wish to commit the text file and make a comment about your commit:<br>\n",
    "`git commit -m \"added a test txt file to repo to test things\"`\n",
    "<br>\n",
    "As you can see, you can add a comment in here that tells other collaborators what the commited change actually implies."
   ]
  },
  {
   "cell_type": "markdown",
   "metadata": {
    "slideshow": {
     "slide_type": "fragment"
    }
   },
   "source": [
    "**Your local copy of the repository will now be exactly one commit (change) ahead of the public repository. In order to align things, you will need to “push” to the online repository!**"
   ]
  },
  {
   "cell_type": "markdown",
   "metadata": {
    "slideshow": {
     "slide_type": "slide"
    }
   },
   "source": [
    "As we cloned the repository before, you can now easily push your commit to the repository by typing: <br>\n",
    "`git push`<br><br>\n",
    "After checking your **GITHUB**-credentials (username/password), this command will now upload your new text file to the remote GitHub repository."
   ]
  },
  {
   "cell_type": "markdown",
   "metadata": {
    "slideshow": {
     "slide_type": "fragment"
    }
   },
   "source": [
    "At any time, “git status” will return to you if there are any changes to the master repository that have not yet been synchronised with your local repository. If you want to update your local repository to the current state of what is in the online repository, you can always use:<br>\n",
    "`git pull`"
   ]
  },
  {
   "cell_type": "markdown",
   "metadata": {
    "slideshow": {
     "slide_type": "slide"
    }
   },
   "source": [
    "**Please note:** \n",
    "\n",
    "This, as stated above is the “easy way out”, as it will directly write your changes to the master branch (i.e. the main repository). This is usually not ideal for collaborating within GitHub. A cleaner way to do things is to use branches that can be merged by the owner of the repository."
   ]
  },
  {
   "cell_type": "markdown",
   "metadata": {
    "slideshow": {
     "slide_type": "slide"
    }
   },
   "source": [
    "A branch in GitHub can be defined as a flow of ideas, edits and developments that branches out from the main structure of the tree trunk. Obviously, there can be further branching down the branch…"
   ]
  },
  {
   "cell_type": "markdown",
   "metadata": {
    "slideshow": {
     "slide_type": "fragment"
    }
   },
   "source": [
    "In GitHub, the tree trunk is referred to as the **master branch**. If you have followed all our steps so far, you have successfully created a file within your local repository, staged it for commitment and committed it to the remote (or, to use GIT terminology: the *upstream*) server. The last step was directly applied to the master branch."
   ]
  },
  {
   "cell_type": "markdown",
   "metadata": {
    "slideshow": {
     "slide_type": "fragment"
    }
   },
   "source": [
    "It is not hard to imagine cases, in which a direct commitment to the master branch by all collaborators at any time might not be desirable. Thus, it is always a good idea to have separate collaborators working in their own separate branches that can then later be merged back into the main branch. This works as follows:"
   ]
  },
  {
   "cell_type": "markdown",
   "metadata": {
    "slideshow": {
     "slide_type": "slide"
    }
   },
   "source": [
    "![image source: https://guides.github.com/activities/hello-world/branching.png](https://guides.github.com/activities/hello-world/branching.png)"
   ]
  },
  {
   "cell_type": "markdown",
   "metadata": {
    "slideshow": {
     "slide_type": "slide"
    }
   },
   "source": [
    "**Create branch:** <br>\n",
    "`git checkout -b BRANCHNAME`<br>\n",
    "`git checkout BRANCHNAME`"
   ]
  },
  {
   "cell_type": "markdown",
   "metadata": {
    "slideshow": {
     "slide_type": "fragment"
    }
   },
   "source": [
    "Now you can perform any changes and later push them to the branch you are working in.\n",
    "\n",
    "Compared to the above workflow, users can now work on individual branches at the same time and will be unaffected by things that happen within other branches, unless branches are **merged**.\n",
    "\n",
    "If there are no conflicting changes within two branches, they can be automatically merged otherwise, you will need to compare both versions of conflicting files and make a decision."
   ]
  },
  {
   "cell_type": "markdown",
   "metadata": {
    "slideshow": {
     "slide_type": "fragment"
    }
   },
   "source": [
    "**A GOOD RULE OF THUMB**: You **never** want to be working in the master branch. It is advisable to always keep the master branch clean, so we can branch out from it. Only when you have reached a plateau within your work and with good communication should you change the master branch."
   ]
  },
  {
   "cell_type": "markdown",
   "metadata": {
    "slideshow": {
     "slide_type": "slide"
    }
   },
   "source": [
    "Once the master branch is changed, it is necessary to branch the master branch into all branches that are currently still being worked on.\n",
    "\n",
    "In short, these are the commands you will need to create a branch, switch to it, add a file to the repository, stage it, commit it and push it to the repo:"
   ]
  },
  {
   "cell_type": "markdown",
   "metadata": {
    "slideshow": {
     "slide_type": "slide"
    }
   },
   "source": [
    "```terminal:\n",
    "git checkout -b \"branchname\"     \n",
    "# create a branch\n",
    "\n",
    "git checkout \"branchname\"\t\t \n",
    "# switch to branch\n",
    "\n",
    "vim \"file.txt\"\t\t\t\t\t \n",
    "# create new file, :wq to exit\n",
    "\n",
    "git add file.txt\t\t\t\t   \n",
    "# stage the new file git add file.txt\n",
    "\n",
    "git commit -m \"comment\"\t\t     \n",
    "# commit all staged files, comment\n",
    "\n",
    "git push\t\t\t\t\t\t \n",
    "# upload all commits to branch\n",
    "```"
   ]
  },
  {
   "cell_type": "markdown",
   "metadata": {
    "slideshow": {
     "slide_type": "slide"
    }
   },
   "source": [
    "After committing changes to your branch, these can be reviewed and merged into the master branch."
   ]
  },
  {
   "cell_type": "markdown",
   "metadata": {
    "slideshow": {
     "slide_type": "slide"
    }
   },
   "source": [
    "**GitHub Pull Requests**<br>\n",
    "\n",
    "As of now, technically ever user of our hub architecture is able to commit to the master branch bei themselves. There is, however, a better way of monitoring commits in case there is a project leader or person designated for supervising merges. Whenever a collaborator wishes to merge a branch they have been working on to the master branch of the repository, they can open up a pull request (i.e. a request for permission to merge their branch into the master branch.)."
   ]
  },
  {
   "cell_type": "markdown",
   "metadata": {
    "slideshow": {
     "slide_type": "fragment"
    }
   },
   "source": [
    "Their pull request can include a comment on what has been changed to give context to the requested changes to the master (or other ;-)) branch.\n",
    "\n",
    "If everybody sticks to their own branches in developing the repository and files within it, pull requests are easily handled from within the browser interface of GitHub. In this case, the browser interface offers nice comparison views to compare changes between conflicting document versions during a pending merge."
   ]
  },
  {
   "cell_type": "markdown",
   "metadata": {
    "slideshow": {
     "slide_type": "slide"
    }
   },
   "source": [
    "Of course, Pull requests can also be done via the Terminal. The basic command structure is:\n",
    "<br><br>\n",
    "`git request-pull [-p] <start> <url> [<end>]`<br><br><br>\n",
    "**`[-p]`** is used to receive a full output of impending changes<br><br>\n",
    "**`<start>`** specifies the starting point of comparison, i.e. the start that a pull of the proposed change is requested from. This just means that <start> will be substituted with the branch you want to merge your work *into*.<br><br>\n",
    "**`<url>`** is used to specify the repository that you want the start point to be compared to. It can be a remote repository or your local repository or branch that you have been working on.<br><br>\n",
    "**`<end>`** can be used to specify an end point for comparison. Usually, we want to request a merge of all recent changes."
   ]
  },
  {
   "cell_type": "markdown",
   "metadata": {
    "slideshow": {
     "slide_type": "slide"
    }
   },
   "source": [
    "Thus, a basic chain of commands to change to a local branch of the repository and file a pull request of the changes within that branch to be merged into the master branch could be:\n",
    "<br><br>\n",
    "`git checkout [branchname]`<br>\n",
    "`git request-pull master .`<br><br>\n",
    "We request a pull into the master from the basic level of the folder structure of our current working branch\n"
   ]
  },
  {
   "cell_type": "markdown",
   "metadata": {
    "slideshow": {
     "slide_type": "slide"
    }
   },
   "source": [
    "### THANK YOU VERY MUCH FOR YOUR ATTENTION!"
   ]
  }
 ],
 "metadata": {
  "kernelspec": {
   "display_name": "py3pack",
   "language": "python",
   "name": "py3pack"
  },
  "language_info": {
   "codemirror_mode": {
    "name": "ipython",
    "version": 3
   },
   "file_extension": ".py",
   "mimetype": "text/x-python",
   "name": "python",
   "nbconvert_exporter": "python",
   "pygments_lexer": "ipython3",
   "version": "3.5.2"
  }
 },
 "nbformat": 4,
 "nbformat_minor": 2
}
