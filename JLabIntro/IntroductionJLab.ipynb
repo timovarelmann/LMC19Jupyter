{
 "cells": [
  {
   "cell_type": "markdown",
   "metadata": {
    "slideshow": {
     "slide_type": "skip"
    }
   },
   "source": [
    "### List of Contents <a name=\"contents\"></a>  \n",
    "*(will not be shown in presentation)* \n",
    "- [Jupyter / Jupyterlab - a brief introduction](#intro)  \n",
    " - [Jupyterhub - how does our architecture look like?](#hub)  \n",
    " - [Login with user credentials](#login)  \n",
    "- [Opening your first notebook](#pull)  \n",
    "- [The basic handling of the Jupyterlab interface and your home and working directories](#navigation)  \n",
    " - [Interacting with files via the GUI](#interact)\n",
    " - [Using the *folder* menu bar](#folderbar)\n",
    " - [Managing running notebooks and processes](#running)  \n",
    "- [Creating a new Jupyter Notebook, naming it and saving it](#create)  \n",
    "- [Using the split-screen view](#split)  \n",
    "- [Editing, saving and executing notebook cells](#edit)  \n",
    "- [First steps in Python: Hello World](#helloworld)  \n",
    "- [Bibliography](#bibliography)  \n",
    "\n",
    "---\n",
    "\n"
   ]
  },
  {
   "cell_type": "markdown",
   "metadata": {
    "slideshow": {
     "slide_type": "slide"
    }
   },
   "source": [
    "# Introduction to Jupyter/JupyterHub/JupyterLab\n",
    "![JupyterHub Logo](https://jupyterhub.readthedocs.io/en/stable/_static/logo.png)  \n",
    "\n",
    "---\n",
    "\n",
    "author: &nbsp;&nbsp; sklassm1@uni-koeln.de  \n",
    "date: &nbsp;&nbsp;&nbsp;&nbsp;&nbsp; February 2nd, 2019 \n",
    "version:&nbsp;&nbsp; 1.2 (reviewed by timo.varelmann@uni-koeln.de)"
   ]
  },
  {
   "cell_type": "markdown",
   "metadata": {
    "slideshow": {
     "slide_type": "slide"
    }
   },
   "source": [
    "#### Welcome to our JupyterLab environment!"
   ]
  },
  {
   "cell_type": "markdown",
   "metadata": {
    "slideshow": {
     "slide_type": "fragment"
    }
   },
   "source": [
    "You have just been handed out a set of login data (credentials) for our Jupyterhub, consisting of a username and password.  \n",
    "Please do not share your login information with anybody else and please store them somewhere safe.\n",
    "\n",
    "---\n",
    "\n",
    "Let us start with a brief introduction to what Jupyterlab actually is, before we proceed to the basic usage of  \n",
    "our system. This introduction will not be exhaustive, but we will give a good reference for further reading at the  end of this notebook."
   ]
  },
  {
   "cell_type": "markdown",
   "metadata": {
    "slideshow": {
     "slide_type": "slide"
    }
   },
   "source": [
    "<a name=\"intro\"></a>\n",
    "Let's start from the bottom:\n",
    "\n",
    "* JuPyteR (derived from the programming languages **Ju**lia, **Py**thon and **R**) is a follow-up project to the iPython   \n",
    "initiative and the iPython notebook file format. It's main data structure is the so-called *Jupyter Notebook*.\n",
    "* A **Jupyter Notebook** is a JSON (Java Script Object Notation) - based file structure that can embed executable cells   \n",
    "of two major kinds: **Markdown Cells** for textual commentary and **Code Cells** for actual code elements within the notebook."
   ]
  },
  {
   "cell_type": "markdown",
   "metadata": {
    "slideshow": {
     "slide_type": "slide"
    }
   },
   "source": [
    "* This enables a new, interactive kind of workflow: Program code can be easily shared between researchers and extensively described in the text of corresponding markdown cells.  \n",
    "\n",
    "* Ideally, computational research and program code can thus be shared in a way that is legible to **any interested researcher, regardless of her or his knowledge of the programming language at hand**."
   ]
  },
  {
   "cell_type": "markdown",
   "metadata": {
    "slideshow": {
     "slide_type": "slide"
    }
   },
   "source": [
    "* This is what we refer to as **literate programming**.  \n",
    "\n",
    "* It is a good habit to consider that all of your coding should be formatted in a **literate** way, whenever possible."
   ]
  },
  {
   "cell_type": "markdown",
   "metadata": {
    "slideshow": {
     "slide_type": "slide"
    }
   },
   "source": [
    "At it's core, the Jupyter Notebook is an application framework that has to be installed on a local machine and all library and functional dependencies have to be locally supervised and installed.\n",
    "\n",
    "This implies a lot of technological issues between different instances of the Notebook software for any group of researchers."
   ]
  },
  {
   "cell_type": "markdown",
   "metadata": {
    "slideshow": {
     "slide_type": "fragment"
    }
   },
   "source": [
    "Enter **Jupyterhub** !"
   ]
  },
  {
   "cell_type": "markdown",
   "metadata": {
    "slideshow": {
     "slide_type": "slide"
    }
   },
   "source": [
    "<a name=\"hub\"></a>\n",
    "Jupyterhub takes the idea of the Jupyter Notebook and makes use of an external server in order to provide browser-based workspaces to any user.\n",
    "\n",
    "There is a variety of possible architectures on the backend of a given Jupyterhub-distribution. In our case, we are running  a Virtual Linux machine at the RRZK that hosts local user (you guys!) accounts.  \n",
    "  \n",
    "Our Jupyterhub-Installation serves as a http-proxy server that is callable from any browser within the network of the UoC. As soon as you have entered your user credentials, you will be able to access your home folder on our virtual machine from within your browser."
   ]
  },
  {
   "cell_type": "markdown",
   "metadata": {
    "slideshow": {
     "slide_type": "fragment"
    }
   },
   "source": [
    "**What about Jupyterlab?**\n",
    "Jupyterlab is a state-of-the-art graphical user interface (GUI) for Jupyterlab. It is open source and can be easily extended by using freely available GUI-extensions. Our course workflow will make use of quite a few of these during the coming weeks already."
   ]
  },
  {
   "cell_type": "markdown",
   "metadata": {
    "slideshow": {
     "slide_type": "slide"
    }
   },
   "source": [
    "<a name=\"login\"></a>\n",
    "Now that we have explored a little bit of the history behind JupyterLab, let us proceed to the actual usage of our\n",
    "hub system.\n",
    "\n",
    "Please open up your browser and navigate to https://jhmuwi.uni-koeln.de !"
   ]
  },
  {
   "cell_type": "markdown",
   "metadata": {
    "slideshow": {
     "slide_type": "fragment"
    }
   },
   "source": [
    "You will now be prompted with the regular JupyterHub login screen:  \n",
    "\n",
    "![login screen](https://opencredo.com/wp-content/uploads/2018/01/login.png)  \n",
    "\n",
    "Please enter your provided login credentials and confirm your login."
   ]
  },
  {
   "cell_type": "markdown",
   "metadata": {
    "slideshow": {
     "slide_type": "slide"
    }
   },
   "source": [
    "Welcome again. You will now be faced with your *home directory* on our hub.  \n",
    "\n",
    "This directory is an actual directory on a remote Linux machine.  "
   ]
  },
  {
   "cell_type": "markdown",
   "metadata": {
    "slideshow": {
     "slide_type": "fragment"
    }
   },
   "source": [
    "In fact, it is hosted within your workspace on a Virtual Machine provided by the RRZK.   \n",
    "As such, it does not differ from file systems you are used to in either Windows, Mac OS or Unix machines.\n",
    "\n",
    "Our hub currently runs Ubuntu Linux 16.04. You will, however, not be using a graphic interface to navigate Linux.  \n",
    "  \n",
    "This browser plugin is enough for almost all of our purposes.  \n",
    "We will, however, be introducing some basic knowledge for using the Unix shell later."
   ]
  },
  {
   "cell_type": "markdown",
   "metadata": {
    "slideshow": {
     "slide_type": "slide"
    }
   },
   "source": [
    "<a name=\"pull\"></a>\n",
    "Let's start by opening your first file on Jupyterlab. In your home directory, you will see a folder (\"JLabIntro\") containing a single notebook file called \"download.ipynb\".  \n",
    "  \n",
    "Please double-click on the file to open it. This notebook contains a single download link that will  \n",
    "transfer all the neccessary files for this workshop to your home directory.  \n",
    "  \n",
    "After downloading all the files, please open the directory /LMC19Jupyter/, /JLabIntro/ and double-click on the file \"IntroductionJLab.ipynb\"."
   ]
  },
  {
   "cell_type": "markdown",
   "metadata": {
    "slideshow": {
     "slide_type": "slide"
    }
   },
   "source": [
    "Let me insert a picture here, so you can all find the proper place to scroll down to in your respective notebooks. *(alternatively, just click navigation in the table of contents)*\n",
    "\n",
    "![ScuBaToCat by Cameron Foxley](https://octodex.github.com/images/scubatocat.png)"
   ]
  },
  {
   "cell_type": "markdown",
   "metadata": {
    "slideshow": {
     "slide_type": "slide"
    }
   },
   "source": [
    "<a name=\"navigation\"></a>\n",
    "### The basic handling of the Jupyterlab interface and your home and working directories"
   ]
  },
  {
   "cell_type": "markdown",
   "metadata": {
    "slideshow": {
     "slide_type": "fragment"
    }
   },
   "source": [
    "For the following hints, please follow along on your own screens and take some time to explore the tools,  \n",
    "commands and workflow elements discussed here. To begin with, your screen should look approximately like this:\n",
    "\n",
    "![JLScreen1](JupyterlabMain.png)"
   ]
  },
  {
   "cell_type": "markdown",
   "metadata": {
    "slideshow": {
     "slide_type": "slide"
    }
   },
   "source": [
    "<a name=\"interact\"></a>\n",
    "To the left of the screen, you can see a bar of menu icons. Right now, the \"Folder\" icon should be highlighted and you should be seeing your current working directory, the files in it and this notebook on your main screen.\n",
    "\n",
    "You can at any time perform the following steps:\n",
    "* double - click on a given folder or file icon within a directory: open it\n",
    "* right - click on any folder or file: open a context menu with further options\n",
    "* double - click on the house symbol right next to the current Working directory (Jupyterlab_Intro in my screenshot): Go back to your home folder.\n",
    "* click on the folder tab on the far left menu: hide the toolbar, so you have extended viewing estate for your open notebooks."
   ]
  },
  {
   "cell_type": "markdown",
   "metadata": {
    "slideshow": {
     "slide_type": "slide"
    }
   },
   "source": [
    "<a name=\"folderbar\"></a>\n",
    "Just above the currently active folder, there is a little menu bar with some useful possibilities:\n",
    "![menubar](menubarfolder.png)\n",
    "\n",
    "---\n",
    "\n",
    "From left to right, the icons will have the following function:\n",
    "* **Create New File** : This button will open up the launcher window, which will allow you to specify whether you want to create a new Jupyter Notebook, Terminal session or other file. In case of a notebook file, you can select a Kernel.\n",
    "* For today's purposes, we can just look at a Kernal as the specific version of our favored progarammig language that we want to use for active code elements within our notebook file.\n",
    "* **Create New Folder** : Create a new Folder in the current working directory! This folder will be given a generic name and you will have to rename it (right-click --> *rename*).\n",
    "* **Upload File** : This will allow you to upload files from your local computer to your Hub workspace. This can be useful, if you have any papers, data or other relevant files that you want to reference in your notebooks.\n",
    "* **Refresh** : This will refresh the current working directory and display any freshly uploaded files."
   ]
  },
  {
   "cell_type": "markdown",
   "metadata": {
    "slideshow": {
     "slide_type": "slide"
    }
   },
   "source": [
    "<a name=\"running\"></a>\n",
    "Please click on the *running man* - Icon in the Icon bar to the left to show your currently active files and terminal sessions:\n",
    "\n",
    "![Screenshot: Running tab](running.png)"
   ]
  },
  {
   "cell_type": "markdown",
   "metadata": {
    "slideshow": {
     "slide_type": "slide"
    }
   },
   "source": [
    "As I briefly mentioned before, the Hub architecture we will be using in our course is actually based on individual workspaces that are created and served for you via a single virtual machine hosted by the University of Cologne.\n",
    "\n",
    "This means, that everybody using this system at our Institute will be sharing the same computational ressources.\n",
    "\n",
    "This is the main reason, why the above *running man* - tab is so important for us. I would like to ask you to take the following steps, whenever you are done coding, studying or working with the hub for the day:"
   ]
  },
  {
   "cell_type": "markdown",
   "metadata": {
    "slideshow": {
     "slide_type": "slide"
    }
   },
   "source": [
    "* In the running tab, please click on *shutdown* on any currently active notebooks and terminal sessions.\n",
    "* please remember to log out of the hub for security reasons and transparancy (If I have to update system libraries on our hub, I always check who's online. If you don't log out, I will think that you are still online. This step just makes life a little easier for me and prevent any risk of data loss on your side):\n",
    "\n",
    "![logout](logout.png)\n",
    "\n",
    "---\n"
   ]
  },
  {
   "cell_type": "markdown",
   "metadata": {
    "slideshow": {
     "slide_type": "slide"
    }
   },
   "source": [
    "<a name=\"create\"></a>\n",
    "### Creating a new Jupyter Notebook, naming it and saving it"
   ]
  },
  {
   "cell_type": "markdown",
   "metadata": {
    "slideshow": {
     "slide_type": "fragment"
    }
   },
   "source": [
    "There is only a few extra things we need to learn today in order to gain a working knowledge of our Hub system. For now, please find the button **Add file** that we have already talked about before and click on it. You will be presented with the launcher window:"
   ]
  },
  {
   "cell_type": "markdown",
   "metadata": {
    "slideshow": {
     "slide_type": "slide"
    }
   },
   "source": [
    "![launcher](launcher.png)\n",
    "\n",
    "Please click on \"python3pack\" to create a new notebook using the most recent version of Python installed on our hub system."
   ]
  },
  {
   "cell_type": "markdown",
   "metadata": {
    "slideshow": {
     "slide_type": "slide"
    }
   },
   "source": [
    "You will be presented with an empty notebook for your own work. It will be called **Untitled.ipynb**:\n",
    "![new notebook](untitledbook.png)"
   ]
  },
  {
   "cell_type": "markdown",
   "metadata": {
    "slideshow": {
     "slide_type": "slide"
    }
   },
   "source": [
    "Taking everything that you have learned so far into account, please rename the untitled notebook to \"course_1.ipynb\".\n",
    "\n",
    "Please also note, that the chosen Kernel / Programming language is always displayed in the top right corner  \n",
    "of an active notebook.\n",
    "\n",
    "---\n",
    "<a name=\"split\"></a>\n",
    "#### Using the split-screen view\n",
    "\n",
    "There is a neat feature called the split screen view, which we can now use to show us both the new notebook and our  \n",
    "instructional notebook at the same time.\n",
    "\n",
    "* First, click on the **folder** icon to the far left in order to have the entire screen for our notebooks.\n",
    "* Click and hold the tab for our new notebook and draw it to the right hand side of our screen. You can now release the mouse button.\n",
    "* Voila! You can now edit, read and execute cells regarding both of our open tabs at the same time."
   ]
  },
  {
   "cell_type": "markdown",
   "metadata": {
    "slideshow": {
     "slide_type": "slide"
    }
   },
   "source": [
    "Right now, your screen should look somewhat similar to this:\n",
    "![split screen 1](split.png)"
   ]
  },
  {
   "cell_type": "markdown",
   "metadata": {
    "slideshow": {
     "slide_type": "slide"
    }
   },
   "source": [
    "<a name=\"edit\"></a>\n",
    "### Editing, saving and executing notebook cells\n",
    "We will now be making the first changes to the freshly created notebook. First of all, every notebook comes with it's own menu bar:\n",
    "\n",
    "![notebook menu](notemenu.png)"
   ]
  },
  {
   "cell_type": "markdown",
   "metadata": {
    "slideshow": {
     "slide_type": "fragment"
    }
   },
   "source": [
    "From left to right, the buttons will have the following effect:\n",
    "* **Save Changes**\n",
    "* **Add new cell below**\n",
    "* **Cut and Copy Cell**\n",
    "* **Copy Selected Cell(s)**\n",
    "* **Paste Cell(s)**\n",
    "* **Run Selected Cell** : Run the selected cell. The hotkey to do so is *Shift+Enter*\n",
    "* **Stop Kernel**\n",
    "* **Restart Kernel**\n",
    "* **Select Cell Type** : Of all the above, this menu entry will be the one we use most frequently. There is pretty much two relevant types of cells we will be using: **Markdown** Cells are to be used for writing text, such as this entire presentation, while **Code** Cells can be used for active Code elements.\n"
   ]
  },
  {
   "cell_type": "markdown",
   "metadata": {
    "slideshow": {
     "slide_type": "slide"
    }
   },
   "source": [
    "<a name=\"helloworld\"></a>\n",
    "You will now write your first piece of python code. Please navigate to the tab for our freshly created notebook.\n",
    "* click in the first cell\n",
    "* please type the following code in it and make sure that you type it exactly as written:  \n",
    "\n",
    "```\n",
    "print(\"hello world!\")\n",
    "```\n",
    "\n",
    "* hit *shift+enter* to execute the current cell.\n",
    "* if you did everything correctly, the notebook will output the famous lines that every programmer has to use as their first program in a given new programming language:\n",
    "\n",
    "![hello world](hello.png)"
   ]
  },
  {
   "cell_type": "markdown",
   "metadata": {
    "slideshow": {
     "slide_type": "slide"
    }
   },
   "source": [
    "We will learn more a lot more about Python programming in the weeks to come. For now, please note that running the cell with the shortey has actually and very much conveniently created a new cell and switched to the new cell as our active cell."
   ]
  },
  {
   "cell_type": "markdown",
   "metadata": {
    "slideshow": {
     "slide_type": "fragment"
    }
   },
   "source": [
    "Applying all the knowdledge that you have acquired today, please perform the following steps:\n",
    "\n",
    "---\n",
    "\n",
    "* select the newly created cell\n",
    "* switch it's cell type to \"Markdown\"\n",
    "* in the newly declared Markdown cell, please explain in your own words what your first line of code actually did.\n",
    "* execute the markdown cell and save the changes to your notebook."
   ]
  },
  {
   "cell_type": "markdown",
   "metadata": {
    "slideshow": {
     "slide_type": "slide"
    }
   },
   "source": [
    "![markdown image 1](markdown1.png)"
   ]
  },
  {
   "cell_type": "markdown",
   "metadata": {
    "slideshow": {
     "slide_type": "slide"
    }
   },
   "source": [
    "That's it for now. Please close the active tab for your *course_1.ipynb* - notebook."
   ]
  },
  {
   "cell_type": "markdown",
   "metadata": {
    "slideshow": {
     "slide_type": "slide"
    }
   },
   "source": [
    "Our second main topic for today's session will be the Markdown language for formatting text elements in  \n",
    "Jupyter notebooks.\n",
    "\n",
    "Timo Varelmann has come up with a great introduction to the Markdown syntax, which you have already downloaded  \n",
    "along with the other files for todays lecture. In order to access this new notebook, please:\n",
    "\n",
    "* Browse back to the folder *coursematerials*\n",
    "* double-click on *markdown*\n",
    "* open the notebook *Markdown.ipynb*"
   ]
  },
  {
   "cell_type": "markdown",
   "metadata": {
    "slideshow": {
     "slide_type": "fragment"
    }
   },
   "source": [
    "You can now close the tab for our Jupyterlab-Introduction. From here on out, it will be markdown all the way."
   ]
  },
  {
   "cell_type": "markdown",
   "metadata": {
    "slideshow": {
     "slide_type": "slide"
    }
   },
   "source": [
    "\n",
    "---\n",
    "<a name=\"bibliography\"></a>\n",
    "### Additional references:\n",
    "\n",
    "\n",
    "**Rossant, Cyrille.** *IPython Interactive Computing and Visualization Cookbook: Over 100 hands-on recipes to sharpen your skills in high-performance numerical computing and data science in the Jupyter Notebook.* Packt Publishing Ltd, 2018."
   ]
  },
  {
   "cell_type": "code",
   "execution_count": null,
   "metadata": {},
   "outputs": [],
   "source": []
  }
 ],
 "metadata": {
  "celltoolbar": "Slideshow",
  "kernelspec": {
   "display_name": "py3pack",
   "language": "python",
   "name": "py3pack"
  },
  "language_info": {
   "codemirror_mode": {
    "name": "ipython",
    "version": 3
   },
   "file_extension": ".py",
   "mimetype": "text/x-python",
   "name": "python",
   "nbconvert_exporter": "python",
   "pygments_lexer": "ipython3",
   "version": "3.5.2"
  }
 },
 "nbformat": 4,
 "nbformat_minor": 2
}
