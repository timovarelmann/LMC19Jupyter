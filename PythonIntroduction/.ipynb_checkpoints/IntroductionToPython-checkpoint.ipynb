{
 "cells": [
  {
   "cell_type": "markdown",
   "metadata": {
    "slideshow": {
     "slide_type": "slide"
    }
   },
   "source": [
    "<a name=\"contents\"></a>\n",
    "## INTRODUCTION TO PYTHON PROGRAMMING  \n",
    "\n",
    "<img src=\"https://octodex.github.com/images/pythocat.png\" width=\"400\">  "
   ]
  },
  {
   "cell_type": "markdown",
   "metadata": {
    "slideshow": {
     "slide_type": "skip"
    }
   },
   "source": [
    "Author: sklassm1@uni-koeln.de  \n",
    "\n",
    "Date: October 20th, 2018  \n",
    "Libraries used: None, Numpy is imported in a cell below, but no functions are used.  \n",
    "Python Version: 3.6  \n",
    "Other dependencies: None"
   ]
  },
  {
   "cell_type": "markdown",
   "metadata": {
    "slideshow": {
     "slide_type": "slide"
    }
   },
   "source": [
    "<a name=\"contents\"></a>\n",
    "### Table of Contents\n",
    "\n",
    "* [Print Statements](#print)  \n",
    "* [Basic Calculations](#basecalc) \n",
    "* [Variables](#variables)\n",
    "* [Basic Types of Loops](#loops)\n",
    "* [Introduction to Lists](#lists)\n",
    "* [Function Definition](#function)\n",
    "* [User Input](#input)\n",
    "* [Additional Literature](#literature)"
   ]
  },
  {
   "cell_type": "markdown",
   "metadata": {
    "slideshow": {
     "slide_type": "slide"
    }
   },
   "source": [
    "##### This notebook serves as a supplement to our introductory session on programming in Python.\n",
    "\n",
    " It can serve as a reminder about the relevant basic concepts needed for the programs \n",
    " we want to write in this seminar.\n",
    "\n",
    " First things first!\n",
    "\n",
    " * Everything you write after a \"#\" is recognized as a comment and can help you structure \n",
    " your code.\n",
    "\n",
    " That means, the interpreter will not treat it as instructions within the code, \n",
    " you can put anything you like in here.\n",
    "\n",
    "\n",
    " * You can see all these cells within a given notebook. You can at any time select \n",
    " one of the cells, highlight it and run the code in it indipendently of everything else.\n",
    "\n",
    " This enables you to treat certain entitites of code as modules to a bigger whole, whilst \n",
    " staying within a single notebook."
   ]
  },
  {
   "cell_type": "code",
   "execution_count": null,
   "metadata": {
    "slideshow": {
     "slide_type": "slide"
    }
   },
   "outputs": [],
   "source": [
    "# Every notebook needs a specification regarding it's Kernel to be used. The default Kernel \n",
    "# for our seminar when using Python will be \"Python3Pack\", as it so far contains the most usable \n",
    "# libraries.\n",
    "#\n",
    "# nota bene: definition \"library\" - a collection of predefined functions and objects.\n",
    "# libraries can be imported in the first cell, for example:\n",
    "\n",
    "import numpy\n",
    "\n",
    "\n",
    "# sometimes, it can be beneficial to import libraries under a different name to shorten code:\n",
    "\n",
    "import numpy as np\n"
   ]
  },
  {
   "cell_type": "markdown",
   "metadata": {
    "slideshow": {
     "slide_type": "slide"
    }
   },
   "source": [
    "##### What is our concept of 'code'?\n",
    "\n",
    "A working definition could be: A code in programming is very much like a very specific cooking \n",
    "recipe.\n",
    "\n",
    "That means: A program (// algorithm) is a stepwise representation of a set of instructions that \n",
    "will be literally followed by an interpreter for the programming language used.\n",
    "\n",
    "Although it is called an interpreter, do not assume that it is able to interprete your code \n",
    "freely, as a human reader might. \n",
    "\n",
    "If you make mistakes in your code, you will likely get an error message, although it might \n",
    "be obvious to an intelligent party how to correct the code."
   ]
  },
  {
   "cell_type": "markdown",
   "metadata": {
    "slideshow": {
     "slide_type": "slide"
    }
   },
   "source": [
    "<a name=\"print\"></a>\n",
    "## PRINT STATEMENTS"
   ]
  },
  {
   "cell_type": "code",
   "execution_count": null,
   "metadata": {
    "slideshow": {
     "slide_type": "slide"
    }
   },
   "outputs": [],
   "source": [
    "# your first piece of code: the print-command\n",
    "#\n",
    "#\n",
    "# If you at any stage want your code to return (i.e. show on screen) a text fragment, \n",
    "# you can use print(\"...\").\n",
    "# example (please hit \"run\" above or press \"ctrl+enter\" to execute the content of a cell):\n",
    "\n",
    "print(\"hello there!\")"
   ]
  },
  {
   "cell_type": "markdown",
   "metadata": {
    "slideshow": {
     "slide_type": "slide"
    }
   },
   "source": [
    "the print command can be used to show on screen any string (i.e. chain of symbols) \n",
    "you want it to, if you put it in between \"\". \n",
    "In Python 3, the () around the printed item is required!"
   ]
  },
  {
   "cell_type": "markdown",
   "metadata": {
    "slideshow": {
     "slide_type": "slide"
    }
   },
   "source": [
    "exercise 1:\n",
    "use this cell and the print command to print out stepwise instructions to reach \n",
    "the closest coffee vendor from our current location."
   ]
  },
  {
   "cell_type": "markdown",
   "metadata": {
    "slideshow": {
     "slide_type": "slide"
    }
   },
   "source": [
    "One of the main uses of the print function in Python will be that it can be used \n",
    "to make operations within your code visible.  \n",
    "  \n",
    "Nota bene: your code will usually not return the results of it's calculations \n",
    "and operations to you, unless you specifically tell the interpreter to do so \n",
    "with the print function."
   ]
  },
  {
   "cell_type": "markdown",
   "metadata": {
    "slideshow": {
     "slide_type": "slide"
    }
   },
   "source": [
    "<a name=\"basecalc\"></a>\n",
    "## BASIC CALCULATIONS"
   ]
  },
  {
   "cell_type": "code",
   "execution_count": null,
   "metadata": {
    "slideshow": {
     "slide_type": "slide"
    }
   },
   "outputs": [],
   "source": [
    "# The next main use of Python is it's capability to perform calculations for you.\n",
    "# generally speaking, all basic operations are available:\n",
    "\n",
    "2-3"
   ]
  },
  {
   "cell_type": "code",
   "execution_count": null,
   "metadata": {
    "slideshow": {
     "slide_type": "slide"
    }
   },
   "outputs": [],
   "source": [
    "3+1"
   ]
  },
  {
   "cell_type": "code",
   "execution_count": null,
   "metadata": {
    "slideshow": {
     "slide_type": "slide"
    }
   },
   "outputs": [],
   "source": [
    "2*3"
   ]
  },
  {
   "cell_type": "code",
   "execution_count": null,
   "metadata": {
    "slideshow": {
     "slide_type": "slide"
    }
   },
   "outputs": [],
   "source": [
    "12/4"
   ]
  },
  {
   "cell_type": "markdown",
   "metadata": {
    "slideshow": {
     "slide_type": "slide"
    }
   },
   "source": [
    "Another specific operation available to use in Python is the Modulo operation. Can you figure out what it does?"
   ]
  },
  {
   "cell_type": "code",
   "execution_count": null,
   "metadata": {
    "slideshow": {
     "slide_type": "fragment"
    }
   },
   "outputs": [],
   "source": [
    "16%3"
   ]
  },
  {
   "cell_type": "code",
   "execution_count": null,
   "metadata": {
    "slideshow": {
     "slide_type": "fragment"
    }
   },
   "outputs": [],
   "source": [
    "12%3"
   ]
  },
  {
   "cell_type": "markdown",
   "metadata": {
    "slideshow": {
     "slide_type": "slide"
    }
   },
   "source": [
    "### Exercise:  \n",
    "Please create a new cell below this one and try out all of the above operations for yourself.  \n",
    "  \n",
    "Note that if you try to do two successive operations this way, only the result of the last operation will be returned."
   ]
  },
  {
   "cell_type": "markdown",
   "metadata": {
    "slideshow": {
     "slide_type": "slide"
    }
   },
   "source": [
    "Please also note that the division above returned 3.0 and not 3. Both results are different \n",
    "data types that Python will treat differently. \n",
    "3.0 is what we call a \"float\", while 3 is an \"integer\". \n",
    "You have already come across a third data type with the print function, \n",
    "the so called \"string\".\n",
    "\n",
    "the other data types in \"pure python\" are: lists (see below), tuple (similar to lists), sets, dictionaries.\n",
    "We might dig deeper into tuples and dictionaries at a later point, should our coding examples require their use."
   ]
  },
  {
   "cell_type": "markdown",
   "metadata": {
    "slideshow": {
     "slide_type": "slide"
    }
   },
   "source": [
    "This distinction is important to keep in mind, as it might be a cause for error messages in your code.  \n",
    "\n",
    "You can use \"//\" to divide two integers and force the result to still be an integer."
   ]
  },
  {
   "cell_type": "code",
   "execution_count": null,
   "metadata": {
    "slideshow": {
     "slide_type": "fragment"
    }
   },
   "outputs": [],
   "source": [
    "12//4"
   ]
  },
  {
   "cell_type": "code",
   "execution_count": null,
   "metadata": {
    "slideshow": {
     "slide_type": "slide"
    }
   },
   "outputs": [],
   "source": [
    "# please note that using \"//\" always rounds the result down to the closest integer. \n",
    "# In other words, a // b returns the amount of times that b will fully fit inside a. \n",
    "# (floor division) \n",
    "#\n",
    "# Example:\n",
    "\n",
    "19//5"
   ]
  },
  {
   "cell_type": "code",
   "execution_count": null,
   "metadata": {
    "slideshow": {
     "slide_type": "slide"
    }
   },
   "outputs": [],
   "source": [
    "# if you type any kind of basic mathematical operation in a cell, it will \n",
    "# usually only return the result.\n",
    "# you can combine basic operations with the print function to do change this.\n",
    "\n",
    "# Example:\n",
    "print(\"2 + 4 =\", 2 + 4)"
   ]
  },
  {
   "cell_type": "code",
   "execution_count": null,
   "metadata": {
    "slideshow": {
     "slide_type": "slide"
    }
   },
   "outputs": [],
   "source": [
    "# python will follow basic mathematic conventions about the order of operations \n",
    "# and you can use brackets to change it.\n",
    "\n",
    "# Example - please note the difference in results:\n",
    "\n",
    "print(2 + 8 * 5)\n",
    "print((2 + 8) * 5)"
   ]
  },
  {
   "cell_type": "markdown",
   "metadata": {
    "slideshow": {
     "slide_type": "slide"
    }
   },
   "source": [
    "<a name=\"variables\"></a>\n",
    "## VARIABLES"
   ]
  },
  {
   "cell_type": "code",
   "execution_count": null,
   "metadata": {
    "slideshow": {
     "slide_type": "slide"
    }
   },
   "outputs": [],
   "source": [
    "# you can use variables in python to store items of all three above data \n",
    "# types (floats, integers, strings).\n",
    "# variables, once defined, can be used in any function or operation.\n",
    "\n",
    "# Example:\n",
    "x = 2\n",
    "y = 3\n",
    "print(x + y)"
   ]
  },
  {
   "cell_type": "markdown",
   "metadata": {
    "slideshow": {
     "slide_type": "slide"
    }
   },
   "source": [
    "#### Some good practices:\n",
    "\n",
    "1. while python3 can actually handle variable names containing a mixture of numbers and letters, this is not recommended and will make your code harder to read for others.\n",
    "\n",
    "2. Be specific in naming your variables. You might end up with a lot of them and do not want to lose track of what they do or are \n",
    "supposed to represent.\n",
    "\n",
    "3. Especially when dealing with loops or custom functions, be aware \n",
    "of when you define your variables, when you change the values tied to them \n",
    "and at what point you print them out.\n",
    "\n",
    "TIP: when developing code, the extensive use of the print function \n",
    "can be very useful for debug messages and diagnostics on what your \n",
    "algorithm is actually doing at the moment. If you don't tell it to do so,\n",
    "it will not inform you about the steps that are currently being taken.\n",
    "\n",
    "* When naming variables: be aware that certain variable names will \n",
    "lead to errors, if they are actually the same as predefined functions \n",
    "in Python."
   ]
  },
  {
   "cell_type": "code",
   "execution_count": null,
   "metadata": {
    "slideshow": {
     "slide_type": "slide"
    }
   },
   "outputs": [],
   "source": [
    "# Here are some of the builtin variables Python already knows and which you should not be using!\n",
    "import builtins\n",
    "dir(builtins)"
   ]
  },
  {
   "cell_type": "code",
   "execution_count": null,
   "metadata": {
    "slideshow": {
     "slide_type": "slide"
    }
   },
   "outputs": [],
   "source": [
    "# in jupyter, it is important to note that variables will carry over from \n",
    "# one cell to another. However, if you restart the kernel of your notebook \n",
    "# and don't execute the cells in order, your variables might not yet have received their\n",
    "# respective values.\n",
    "# This is analogue to the more general programming issue of global vs. \n",
    "# local variables, which will most likely not come up in the bits of code \n",
    "# that we are writing.\n",
    "\n",
    "print(x * y) # x and y are carried over fom the above cell. \n",
    "# Also, you can comment in line with other commands :)."
   ]
  },
  {
   "cell_type": "code",
   "execution_count": null,
   "metadata": {
    "slideshow": {
     "slide_type": "slide"
    }
   },
   "outputs": [],
   "source": [
    "# if you at any time wish to tie a variable to a different value, you can \n",
    "# do so by using the \"=\" again:\n",
    "x = 2\n",
    "y = 3\n",
    "print (\"x + y =\", x+y)\n",
    "x = 5\n",
    "print(\"x is now 5, so the result of x + y is now:\", x + y)"
   ]
  },
  {
   "cell_type": "code",
   "execution_count": null,
   "metadata": {
    "slideshow": {
     "slide_type": "slide"
    }
   },
   "outputs": [],
   "source": [
    "# please note the extended syntax of the print function above. \n",
    "# You can always combine printing a string with other\n",
    "# operations or the content of variables by using a comma and \n",
    "# inserting the respective operation after it before \n",
    "# closing the bracket. \n",
    "# this means that the following is entirely possible:\n",
    "\n",
    "print(\"using x = 5 and y = 3, x * y is\", x * y, \". This also means that 2 * x + y equals\", 2 * x + y)"
   ]
  },
  {
   "cell_type": "markdown",
   "metadata": {
    "slideshow": {
     "slide_type": "slide"
    }
   },
   "source": [
    "exercise: please calculate and print the following operation in this cell:\n",
    "\n",
    "1. take two variables x and y\n",
    "2. define them by assigning them an integer value of your choice\n",
    "3. let z be the product of x and y\n",
    "4. print z."
   ]
  },
  {
   "cell_type": "markdown",
   "metadata": {
    "slideshow": {
     "slide_type": "slide"
    }
   },
   "source": [
    "<a name=\"loops\"></a>\n",
    "## BASIC LOOPS"
   ]
  },
  {
   "cell_type": "markdown",
   "metadata": {
    "slideshow": {
     "slide_type": "slide"
    }
   },
   "source": [
    "There is different kinds of loops in python.  \n",
    "you can think of a loop as an instruction to repeat a set of instructions \n",
    "a specified amount of times or until a certain condition is met.  \n",
    "\n",
    "The most relevant (for our purposes) type of loop is the \"for - loop\". it basically works as follows:  \n",
    "\n",
    "```\n",
    "Please do the following instructions VARIABLE times:  \n",
    "    DO SOMETHING\n",
    "    DO SOMETHING MORE\n",
    "    ONCE THE LAST LINE OF INSTRUCTIONS IS MET, RETURN TO THE TOP OF THE LOOP\n",
    "```\n",
    "  \n",
    "a given run through of a for-loop can be referred to as an iteration."
   ]
  },
  {
   "cell_type": "code",
   "execution_count": null,
   "metadata": {
    "slideshow": {
     "slide_type": "slide"
    }
   },
   "outputs": [],
   "source": [
    "# you can for example use this to count from 1 to 10 and print the steps to take.\n",
    "\n",
    "x = 1 # set x to the starting value of 1\n",
    "y = 1 # value to repeatedly add to x\n",
    "count = 10 # set a variable to specify the number we want to count up to.\n",
    "\n",
    "print(\"let's count to\",count,\".\")\n",
    "for i in range(count): # do the following steps a number of times that is equal \n",
    "                       # to what we stored in \"count\".\n",
    "    print(x)        # show me the current value of x\n",
    "    x = x + y       # tie x to a new value that is calculated by using the old \n",
    "                    # x and adding the value that is tied to\n",
    "                    # y, ie. \"1\"."
   ]
  },
  {
   "cell_type": "code",
   "execution_count": null,
   "metadata": {
    "slideshow": {
     "slide_type": "slide"
    }
   },
   "outputs": [],
   "source": [
    "# please note: the above code shows one more little concept that can \n",
    "# be quite important.\n",
    "# we specified the value we want to count up to by using a variable.\n",
    "# this has the big advantage that the number of times the loop will run \n",
    "# (it's number of iterations) could be influenced at different points \n",
    "# in the preceding code.\n",
    "#\n",
    "# Please also note: \"for i in range()\" also accepts two arguments.\n",
    "# If you for example were to type \"for i in range(1,7)\", the first iteration would\n",
    "# receive the index number 1 and the loop would iterate until reaching the index number 7.\n",
    "# (whilst not performing said iteration 7.)\n",
    "# The number of iterations will be the difference between the first and second argument.\n",
    "\n",
    "for i in range(1,7):\n",
    "    print(\"Iteration index is:\",i)"
   ]
  },
  {
   "cell_type": "markdown",
   "metadata": {
    "slideshow": {
     "slide_type": "slide"
    }
   },
   "source": [
    "#### exercise:  \n",
    "using the loop structure from above, please calculate 8 * 8.  \n",
    "\n",
    "You are not allowed to use multiplication in doing so. Ideally, try to not use integers in the loop itself and rather use variables that are\n",
    "specified outside the loop."
   ]
  },
  {
   "cell_type": "markdown",
   "metadata": {
    "slideshow": {
     "slide_type": "slide"
    }
   },
   "source": [
    "Reflection exercise: Can you imagine or research, what other types of loops there might be in Python?\n",
    "How could they be relevant and differ from the for-loop?"
   ]
  },
  {
   "cell_type": "markdown",
   "metadata": {
    "slideshow": {
     "slide_type": "slide"
    }
   },
   "source": [
    "<a name=\"lists\"></a>\n",
    "## LISTS"
   ]
  },
  {
   "cell_type": "markdown",
   "metadata": {
    "slideshow": {
     "slide_type": "slide"
    }
   },
   "source": [
    "in Python, lists can be viewed as a convenient way to store items of \n",
    "the same or differing data types (integer, float, string) for later use.  \n",
    "\n",
    "note: although Python can actually be used to store items of different data types,  \n",
    "you might get some issues when looping operations over lists that contain items, which   \n",
    "do not match the expected type for the function called.\n",
    "\n",
    "the basic structure of a list is as follows: [item0, item1, item2, item3]  \n",
    "please note the square brackets and the fact that the first item of a list \n",
    "is always referred to as item \"0\" in Python.  \n",
    "\n",
    "example: here's a basic list of numbers:"
   ]
  },
  {
   "cell_type": "code",
   "execution_count": null,
   "metadata": {
    "slideshow": {
     "slide_type": "slide"
    }
   },
   "outputs": [],
   "source": [
    "lv = [1,2,3,4,5,6,7]\n",
    "print(lv)\n",
    "\n",
    "# You can either establish a list as an empty list and add items later,\n",
    "# or directly specify it as a list of certain items:\n",
    "\n",
    "la = [] # empty list\n",
    "lb = [6, 7, 8]\n",
    "\n",
    "print(\"empty list:\", la)\n",
    "print(\"list with pre-specified items:\", lb)"
   ]
  },
  {
   "cell_type": "code",
   "execution_count": null,
   "metadata": {
    "slideshow": {
     "slide_type": "slide"
    }
   },
   "outputs": [],
   "source": [
    "# you can also use variables insides lists:\n",
    "a = 1\n",
    "b = a + 1\n",
    "c = b + 1\n",
    "d = c + 1\n",
    "complicatedlist = [a,b,c,d]\n",
    "print(complicatedlist)"
   ]
  },
  {
   "cell_type": "code",
   "execution_count": null,
   "metadata": {
    "slideshow": {
     "slide_type": "slide"
    }
   },
   "outputs": [],
   "source": [
    "# one more handy thing to do with lists is that you can \n",
    "# add new items to any given list. this is done\n",
    "# by using the listname.append() function as follows:\n",
    "a = 1\n",
    "b = a + 1\n",
    "c = b + 1\n",
    "d = c + 1\n",
    "e = d + 1\n",
    "f = e + 1\n",
    "morecomplicatedlist = [a,b,c,d]\n",
    "print(morecomplicatedlist) # print original list\n",
    "morecomplicatedlist.append(e)\n",
    "morecomplicatedlist.append(f) # add the values for e and f to the existing list\n",
    "print(morecomplicatedlist) # print list now containing e and f as well.\n"
   ]
  },
  {
   "cell_type": "code",
   "execution_count": null,
   "metadata": {
    "slideshow": {
     "slide_type": "slide"
    }
   },
   "outputs": [],
   "source": [
    "# there's another way to do the very same thing:\n",
    "#\n",
    "# one more handy thing to do with lists is that you can add new \n",
    "# items to any given list. this is done\n",
    "# by using the listname.append() function as follows:\n",
    "a = 1\n",
    "b = a + 1\n",
    "c = b + 1\n",
    "d = c + 1\n",
    "e = d + 1\n",
    "f = e + 1\n",
    "\n",
    "complicatedlist = [a,b,c,d]\n",
    "print(complicatedlist) # print original list\n",
    "\n",
    "addlist = [e, f]           # create a new list containing the values for e and f\n",
    "morecomplicatedlist = complicatedlist + addlist\n",
    "\n",
    "# adding two lists in Python adds the values of the second list\n",
    "# to the first list at it's end. formally, this is referred to as list \n",
    "# concetanation.\n",
    "\n",
    "print(morecomplicatedlist) \n",
    "# print list now containing e and f as well."
   ]
  },
  {
   "cell_type": "code",
   "execution_count": null,
   "metadata": {
    "slideshow": {
     "slide_type": "slide"
    }
   },
   "outputs": [],
   "source": [
    "# nota bene, you can also create a list without contained items \n",
    "# first and then add them to the list, i.e.:\n",
    "ls = []\n",
    "\n",
    "# specify variables:\n",
    "a = 1\n",
    "b = a + 1\n",
    "c = b + 1\n",
    "d = c + 1\n",
    "e = d + 1\n",
    "f = e + 1\n",
    "\n",
    "# add variables to the end of the list.\n",
    "ls.append(a)\n",
    "ls.append(b)\n",
    "ls.append(c)\n",
    "ls.append(d)\n",
    "ls.append(e)\n",
    "ls.append(f)\n",
    "# technically, these six steps could of course also be part \n",
    "# of a loop if one happened to be inclined to do it\n",
    "# that way...\n",
    "\n",
    "print(ls)"
   ]
  },
  {
   "cell_type": "code",
   "execution_count": null,
   "metadata": {
    "slideshow": {
     "slide_type": "slide"
    }
   },
   "outputs": [],
   "source": [
    "# You can always take specific items \n",
    "# from a list and use them in further operations.\n",
    "# it is important to note that while retrieving a set item from a list, \n",
    "# all list items are numbered (with a so called index). However, the first\n",
    "# item of a given list always recieves the index number \"0\".\n",
    "# one possible use for this:\n",
    "\n",
    "x = 1\n",
    "y = 2\n",
    "z = 3\n",
    "\n",
    "lv = [x, y, z]\n",
    "\n",
    "# you could now easily retrieve the middle item from the list \n",
    "# and print it with the following operation:\n",
    "\n",
    "print(lv[1]) # i.e. print the value of the item \n",
    "             # from the list \"lv\" that bears the index number 1. \n",
    "             # (this is the second item)"
   ]
  },
  {
   "cell_type": "code",
   "execution_count": null,
   "metadata": {
    "slideshow": {
     "slide_type": "slide"
    }
   },
   "outputs": [],
   "source": [
    "# why would you do that?\n",
    "# this last thing might actually be important when you \n",
    "# try to use a loop to do something \n",
    "# to the items within a list in succession.\n",
    "\n",
    "# example:\n",
    "\n",
    "a = 1\n",
    "b = 2\n",
    "shortlist = [a, b]\n",
    "print(\"the original list is\", shortlist)\n",
    "\n",
    "for i in range(2):\n",
    "    shortlist[i] = shortlist[i] + 2\n",
    "    \n",
    "print(\"after doing something to it, the list is now:\",shortlist)"
   ]
  },
  {
   "cell_type": "markdown",
   "metadata": {
    "slideshow": {
     "slide_type": "fragment"
    }
   },
   "source": [
    "#### Exercise:\n",
    "what was the* for loop used for in the above code example?"
   ]
  },
  {
   "cell_type": "markdown",
   "metadata": {
    "slideshow": {
     "slide_type": "slide"
    }
   },
   "source": [
    "#### Exercise:\n",
    "\n",
    "Using what you have learned about lists, please rewrite our \n",
    "simple counting program (using loops) from above to \n",
    "count up to a variable-bound number by adding items to a list.\n",
    "print out the final list.\n",
    "\n",
    "\n",
    "don't worry, we have done quite a lot over the past hours and this \n",
    "is in fact getting complicated. :-) Take this slowly!"
   ]
  },
  {
   "cell_type": "markdown",
   "metadata": {
    "slideshow": {
     "slide_type": "slide"
    }
   },
   "source": [
    "<a name=\"function\"></a>\n",
    "## DEFINING YOUR OWN FUNCTIONS"
   ]
  },
  {
   "cell_type": "markdown",
   "metadata": {
    "slideshow": {
     "slide_type": "fragment"
    }
   },
   "source": [
    "Of course, you can also define your own functions in Python.\n",
    "a function can be viewed as an operation performed on a given \n",
    "input under certain conditions.  \n",
    "\n",
    "The specific conditions and input object(s) for a given function are usually \n",
    "referred to as it's arguments.\n",
    "  \n",
    "Let's again take the count function we implemented above:"
   ]
  },
  {
   "cell_type": "code",
   "execution_count": null,
   "metadata": {
    "slideshow": {
     "slide_type": "slide"
    }
   },
   "outputs": [],
   "source": [
    "def countup(x, ct):\n",
    "    y = 1\n",
    "    print(\"let's count to\",ct,\".\")\n",
    "    for i in range(ct): \n",
    "        print(x)        \n",
    "        x = x + y\n",
    "        \n",
    "# what did we do there?\n",
    "# In case you are unsure, feel free to add the comments to the code above."
   ]
  },
  {
   "cell_type": "code",
   "execution_count": null,
   "metadata": {
    "slideshow": {
     "slide_type": "fragment"
    }
   },
   "outputs": [],
   "source": [
    "# example application of the new function - please be sure to execute the prior cell before attempting this!\n",
    "countup(1, 20)"
   ]
  },
  {
   "cell_type": "code",
   "execution_count": null,
   "metadata": {
    "slideshow": {
     "slide_type": "subslide"
    }
   },
   "outputs": [],
   "source": [
    "def addone(z):\n",
    "    z = z + 1\n",
    "    return z"
   ]
  },
  {
   "cell_type": "code",
   "execution_count": null,
   "metadata": {
    "slideshow": {
     "slide_type": "fragment"
    }
   },
   "outputs": [],
   "source": [
    "addone(1)"
   ]
  },
  {
   "cell_type": "markdown",
   "metadata": {
    "slideshow": {
     "slide_type": "slide"
    }
   },
   "source": [
    "<a name=\"input\"></a>\n",
    "## USER INPUT"
   ]
  },
  {
   "cell_type": "markdown",
   "metadata": {
    "slideshow": {
     "slide_type": "fragment"
    }
   },
   "source": [
    "So far, we have only interacted with the interpreter by specifying \n",
    "instructions as code.  \n",
    "\n",
    "Of course, it is also possible to have a user of a given program \n",
    "interact with the program.  \n",
    "\n",
    "One likely way to do so is to ask for user input of values for given variables."
   ]
  },
  {
   "cell_type": "code",
   "execution_count": null,
   "metadata": {
    "slideshow": {
     "slide_type": "slide"
    }
   },
   "outputs": [],
   "source": [
    "# applying this to our countup function defined above. (if you haven't, \n",
    "# please execute the respective cell now!):\n",
    "\n",
    "def count(x, ct):    \n",
    "    y = 1    \n",
    "    print(\"let's count to\",ct,\".\")    \n",
    "    for i in range(ct + 1 - x): \n",
    "\n",
    "# < ---- what did we change here? if not given another starting value, range()\n",
    "# starts at 0 and takes the number in brackets as number of iterations!       \n",
    "        print(x)        \n",
    "        x = x + y                             \n",
    "    \n",
    "x = int(input(\"which number would you like to start counting from? \"))\n",
    "ct = int(input(\"how far would you like to count? \"))   # <------ why is that neccessary?\n",
    "print(\"ok, counting from\", x, \"to\", ct)\n",
    "    \n",
    "count(x, ct)"
   ]
  },
  {
   "cell_type": "markdown",
   "metadata": {
    "slideshow": {
     "slide_type": "slide"
    }
   },
   "source": [
    "#### comprehension question:\n",
    "consider what we have said about data types before.\n",
    "now carefully look at the statement:  \n",
    "```\n",
    "x = int(input(\"which number would you like to start counting from? \"))\n",
    "```\n",
    " \n",
    "How dows it work? To solve this, you can start by considering the \n",
    "bracketing and revisit the three main types of data types established so far.  \n",
    "  \n",
    "---"
   ]
  },
  {
   "cell_type": "markdown",
   "metadata": {
    "slideshow": {
     "slide_type": "slide"
    }
   },
   "source": [
    "<a name=\"literature\"></a>\n",
    "## ADDITIONAL LITERATURE"
   ]
  },
  {
   "cell_type": "markdown",
   "metadata": {
    "slideshow": {
     "slide_type": "slide"
    }
   },
   "source": [
    "### recommended reading to further your understanding of Python as a programming language:\n",
    "\n",
    "Shaw, Zed, Learn Python 3 the Hard Way.  \n",
    "  \n",
    "A good read regarding the application of Python-based programming \n",
    "in musical contexts:\n",
    "  \n",
    "Manaris, Bill/ Brown, Andrew, Making Music with Computers. \n",
    "Creative Programming with Python, Boca Raton 2014.\n",
    "\n",
    "Of course, Python can also do a lot of linear algebra. The respective library to be used for more advanced  \n",
    "numeric operations is numpy (scipy).\n",
    "\n",
    "Extensive documentation can be found here: https://docs.scipy.org/doc/\n",
    "\n",
    "If you want to get a good impression on how thinking in algorithms can become a scientific mindset,  \n",
    "you should check out the MIT Lectures on Python (Introduction to Computer Science and Programming, Fall 2008):\n",
    "  \n",
    "  \n",
    "https://www.youtube.com/watch?v=k6U-i4gXkLM&list=PL57FCE46F714A03BC"
   ]
  },
  {
   "cell_type": "markdown",
   "metadata": {
    "slideshow": {
     "slide_type": "slide"
    }
   },
   "source": [
    "  \n",
    "  \n",
    "---\n",
    "  \n",
    "[Alright, please take me back to the top.](#contents)"
   ]
  }
 ],
 "metadata": {
  "celltoolbar": "Slideshow",
  "kernelspec": {
   "display_name": "py3pack",
   "language": "python",
   "name": "py3pack"
  },
  "language_info": {
   "codemirror_mode": {
    "name": "ipython",
    "version": 3
   },
   "file_extension": ".py",
   "mimetype": "text/x-python",
   "name": "python",
   "nbconvert_exporter": "python",
   "pygments_lexer": "ipython3",
   "version": "3.5.2"
  }
 },
 "nbformat": 4,
 "nbformat_minor": 2
}
